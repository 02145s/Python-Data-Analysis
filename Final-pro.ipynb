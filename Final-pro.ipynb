{
 "cells": [
  {
   "cell_type": "code",
   "execution_count": 1,
   "metadata": {},
   "outputs": [],
   "source": [
    "%matplotlib inline\n",
    "import pandas as pd\n",
    "import numpy as np\n",
    "import matplotlib.pyplot as plt\n",
    "import seaborn as sns\n",
    "\n",
    "import warnings\n",
    "warnings.filterwarnings(\"ignore\")"
   ]
  },
  {
   "cell_type": "code",
   "execution_count": 2,
   "metadata": {},
   "outputs": [],
   "source": [
    "import requests\n",
    "import json"
   ]
  },
  {
   "cell_type": "code",
   "execution_count": 3,
   "metadata": {},
   "outputs": [
    {
     "name": "stdout",
     "output_type": "stream",
     "text": [
      "{'query': {'select': '1', 'item': [{'rank': '1', 'region_keyword': '중계역', 'region_type': 'favor', 'region_info': {'name': '중계역 7호선', 'fkey': '13479538', 'x': '1270640802', 'y': '376451447', 'spot_id':...\n"
     ]
    }
   ],
   "source": [
    "# 네이버 플레이스 API를 호출하기 위한 기본 주소입니다.\n",
    "source_url = \"https://store.naver.com/sogum/api/businesses?\"\n",
    "\n",
    "# 검색 규칙 파라미터를 추가합니다.\n",
    "url_parameter_start = \"start=1\"\n",
    "url_parameter_display = \"&display=\"\n",
    "url_parameter_query = \"&query=중계역+식당\"\n",
    "url_parameter_sorting = \"&sortingOrder=precision\"\n",
    "url_concat = source_url + url_parameter_start + \\\n",
    "            url_parameter_display + str(100) + url_parameter_query + url_parameter_sorting\n",
    "\n",
    "# 반환받은 API 데이터에 json.loads 함수를 사용합니다.\n",
    "json_data = requests.get(url_concat).text\n",
    "restaurant_list_data = json.loads(json_data)\n",
    "\n",
    "# 관련도순 상위 200개의 음식점 리스트 정보를 출력합니다.\n",
    "print(str(restaurant_list_data)[:200]+\"...\")"
   ]
  },
  {
   "cell_type": "code",
   "execution_count": 5,
   "metadata": {},
   "outputs": [
    {
     "name": "stdout",
     "output_type": "stream",
     "text": [
      "request_url: https://store.naver.com/sogum/api/businesses?start=1&display=100&query=중계역+맛집&sortingOrder=precision\n",
      "request_url: https://store.naver.com/sogum/api/businesses?start=101&display=200&query=중계역+맛집&sortingOrder=precision\n",
      "request_url: https://store.naver.com/sogum/api/businesses?start=201&display=300&query=중계역+맛집&sortingOrder=precision\n",
      "request_url: https://store.naver.com/sogum/api/businesses?start=301&display=400&query=중계역+맛집&sortingOrder=precision\n"
     ]
    },
    {
     "ename": "JSONDecodeError",
     "evalue": "Expecting value: line 1 column 1 (char 0)",
     "output_type": "error",
     "traceback": [
      "\u001b[1;31m---------------------------------------------------------------------------\u001b[0m",
      "\u001b[1;31mJSONDecodeError\u001b[0m                           Traceback (most recent call last)",
      "\u001b[1;32m<ipython-input-5-9d0a86144f92>\u001b[0m in \u001b[0;36m<module>\u001b[1;34m\u001b[0m\n\u001b[0;32m     20\u001b[0m     \u001b[0mjson_data\u001b[0m \u001b[1;33m=\u001b[0m \u001b[0mrequests\u001b[0m\u001b[1;33m.\u001b[0m\u001b[0mget\u001b[0m\u001b[1;33m(\u001b[0m\u001b[0murl_concat\u001b[0m\u001b[1;33m)\u001b[0m\u001b[1;33m.\u001b[0m\u001b[0mtext\u001b[0m\u001b[1;33m\u001b[0m\u001b[1;33m\u001b[0m\u001b[0m\n\u001b[0;32m     21\u001b[0m     \u001b[1;31m#json_data = requests.get(url_concat).json()\u001b[0m\u001b[1;33m\u001b[0m\u001b[1;33m\u001b[0m\u001b[1;33m\u001b[0m\u001b[0m\n\u001b[1;32m---> 22\u001b[1;33m     \u001b[0mrestaurant_list_data\u001b[0m \u001b[1;33m=\u001b[0m \u001b[0mjson\u001b[0m\u001b[1;33m.\u001b[0m\u001b[0mloads\u001b[0m\u001b[1;33m(\u001b[0m\u001b[0mjson_data\u001b[0m\u001b[1;33m)\u001b[0m\u001b[1;33m\u001b[0m\u001b[1;33m\u001b[0m\u001b[0m\n\u001b[0m\u001b[0;32m     23\u001b[0m     \u001b[1;31m#restaurant_list_data = json_data\u001b[0m\u001b[1;33m\u001b[0m\u001b[1;33m\u001b[0m\u001b[1;33m\u001b[0m\u001b[0m\n\u001b[0;32m     24\u001b[0m \u001b[1;33m\u001b[0m\u001b[0m\n",
      "\u001b[1;32mc:\\users\\hwj\\anaconda3\\envs\\py\\lib\\json\\__init__.py\u001b[0m in \u001b[0;36mloads\u001b[1;34m(s, encoding, cls, object_hook, parse_float, parse_int, parse_constant, object_pairs_hook, **kw)\u001b[0m\n\u001b[0;32m    346\u001b[0m             \u001b[0mparse_int\u001b[0m \u001b[1;32mis\u001b[0m \u001b[1;32mNone\u001b[0m \u001b[1;32mand\u001b[0m \u001b[0mparse_float\u001b[0m \u001b[1;32mis\u001b[0m \u001b[1;32mNone\u001b[0m \u001b[1;32mand\u001b[0m\u001b[1;33m\u001b[0m\u001b[1;33m\u001b[0m\u001b[0m\n\u001b[0;32m    347\u001b[0m             parse_constant is None and object_pairs_hook is None and not kw):\n\u001b[1;32m--> 348\u001b[1;33m         \u001b[1;32mreturn\u001b[0m \u001b[0m_default_decoder\u001b[0m\u001b[1;33m.\u001b[0m\u001b[0mdecode\u001b[0m\u001b[1;33m(\u001b[0m\u001b[0ms\u001b[0m\u001b[1;33m)\u001b[0m\u001b[1;33m\u001b[0m\u001b[1;33m\u001b[0m\u001b[0m\n\u001b[0m\u001b[0;32m    349\u001b[0m     \u001b[1;32mif\u001b[0m \u001b[0mcls\u001b[0m \u001b[1;32mis\u001b[0m \u001b[1;32mNone\u001b[0m\u001b[1;33m:\u001b[0m\u001b[1;33m\u001b[0m\u001b[1;33m\u001b[0m\u001b[0m\n\u001b[0;32m    350\u001b[0m         \u001b[0mcls\u001b[0m \u001b[1;33m=\u001b[0m \u001b[0mJSONDecoder\u001b[0m\u001b[1;33m\u001b[0m\u001b[1;33m\u001b[0m\u001b[0m\n",
      "\u001b[1;32mc:\\users\\hwj\\anaconda3\\envs\\py\\lib\\json\\decoder.py\u001b[0m in \u001b[0;36mdecode\u001b[1;34m(self, s, _w)\u001b[0m\n\u001b[0;32m    335\u001b[0m \u001b[1;33m\u001b[0m\u001b[0m\n\u001b[0;32m    336\u001b[0m         \"\"\"\n\u001b[1;32m--> 337\u001b[1;33m         \u001b[0mobj\u001b[0m\u001b[1;33m,\u001b[0m \u001b[0mend\u001b[0m \u001b[1;33m=\u001b[0m \u001b[0mself\u001b[0m\u001b[1;33m.\u001b[0m\u001b[0mraw_decode\u001b[0m\u001b[1;33m(\u001b[0m\u001b[0ms\u001b[0m\u001b[1;33m,\u001b[0m \u001b[0midx\u001b[0m\u001b[1;33m=\u001b[0m\u001b[0m_w\u001b[0m\u001b[1;33m(\u001b[0m\u001b[0ms\u001b[0m\u001b[1;33m,\u001b[0m \u001b[1;36m0\u001b[0m\u001b[1;33m)\u001b[0m\u001b[1;33m.\u001b[0m\u001b[0mend\u001b[0m\u001b[1;33m(\u001b[0m\u001b[1;33m)\u001b[0m\u001b[1;33m)\u001b[0m\u001b[1;33m\u001b[0m\u001b[1;33m\u001b[0m\u001b[0m\n\u001b[0m\u001b[0;32m    338\u001b[0m         \u001b[0mend\u001b[0m \u001b[1;33m=\u001b[0m \u001b[0m_w\u001b[0m\u001b[1;33m(\u001b[0m\u001b[0ms\u001b[0m\u001b[1;33m,\u001b[0m \u001b[0mend\u001b[0m\u001b[1;33m)\u001b[0m\u001b[1;33m.\u001b[0m\u001b[0mend\u001b[0m\u001b[1;33m(\u001b[0m\u001b[1;33m)\u001b[0m\u001b[1;33m\u001b[0m\u001b[1;33m\u001b[0m\u001b[0m\n\u001b[0;32m    339\u001b[0m         \u001b[1;32mif\u001b[0m \u001b[0mend\u001b[0m \u001b[1;33m!=\u001b[0m \u001b[0mlen\u001b[0m\u001b[1;33m(\u001b[0m\u001b[0ms\u001b[0m\u001b[1;33m)\u001b[0m\u001b[1;33m:\u001b[0m\u001b[1;33m\u001b[0m\u001b[1;33m\u001b[0m\u001b[0m\n",
      "\u001b[1;32mc:\\users\\hwj\\anaconda3\\envs\\py\\lib\\json\\decoder.py\u001b[0m in \u001b[0;36mraw_decode\u001b[1;34m(self, s, idx)\u001b[0m\n\u001b[0;32m    353\u001b[0m             \u001b[0mobj\u001b[0m\u001b[1;33m,\u001b[0m \u001b[0mend\u001b[0m \u001b[1;33m=\u001b[0m \u001b[0mself\u001b[0m\u001b[1;33m.\u001b[0m\u001b[0mscan_once\u001b[0m\u001b[1;33m(\u001b[0m\u001b[0ms\u001b[0m\u001b[1;33m,\u001b[0m \u001b[0midx\u001b[0m\u001b[1;33m)\u001b[0m\u001b[1;33m\u001b[0m\u001b[1;33m\u001b[0m\u001b[0m\n\u001b[0;32m    354\u001b[0m         \u001b[1;32mexcept\u001b[0m \u001b[0mStopIteration\u001b[0m \u001b[1;32mas\u001b[0m \u001b[0merr\u001b[0m\u001b[1;33m:\u001b[0m\u001b[1;33m\u001b[0m\u001b[1;33m\u001b[0m\u001b[0m\n\u001b[1;32m--> 355\u001b[1;33m             \u001b[1;32mraise\u001b[0m \u001b[0mJSONDecodeError\u001b[0m\u001b[1;33m(\u001b[0m\u001b[1;34m\"Expecting value\"\u001b[0m\u001b[1;33m,\u001b[0m \u001b[0ms\u001b[0m\u001b[1;33m,\u001b[0m \u001b[0merr\u001b[0m\u001b[1;33m.\u001b[0m\u001b[0mvalue\u001b[0m\u001b[1;33m)\u001b[0m \u001b[1;32mfrom\u001b[0m \u001b[1;32mNone\u001b[0m\u001b[1;33m\u001b[0m\u001b[1;33m\u001b[0m\u001b[0m\n\u001b[0m\u001b[0;32m    356\u001b[0m         \u001b[1;32mreturn\u001b[0m \u001b[0mobj\u001b[0m\u001b[1;33m,\u001b[0m \u001b[0mend\u001b[0m\u001b[1;33m\u001b[0m\u001b[1;33m\u001b[0m\u001b[0m\n",
      "\u001b[1;31mJSONDecodeError\u001b[0m: Expecting value: line 1 column 1 (char 0)"
     ]
    }
   ],
   "source": [
    "restaurant_id_list = []\n",
    "\n",
    "import urllib\n",
    "\n",
    "\n",
    "# 100개씩의 API 호출 결과를 10번 가져옵니다.\n",
    "for start_idx in [1, 101, 201, 301, 401, 501, 601, 701, 801, 901]:\n",
    "    \n",
    "    # 네이버 플레이스 API를 호출하기 위한 기본 주소입니다.\n",
    "    source_url = \"https://store.naver.com/sogum/api/businesses?\"\n",
    "    \n",
    "    # 검색 규칙 파라미터를 추가합니다.\n",
    "    url_parameter_start = \"start=\" + str(start_idx)\n",
    "    url_parameter_display = \"&display=\"\n",
    "    url_parameter_query = \"&query=중계역+맛집\"\n",
    "    url_parameter_sorting = \"&sortingOrder=precision\"\n",
    "    url_concat = source_url + url_parameter_start + \\\n",
    "                url_parameter_display + str(start_idx+99) + url_parameter_query + url_parameter_sorting\n",
    "    print(\"request_url:\", url_concat)\n",
    "    json_data = requests.get(url_concat).text\n",
    "    #json_data = requests.get(url_concat).json()\n",
    "    restaurant_list_data = json.loads(json_data)\n",
    "    #restaurant_list_data = json_data\n",
    "\n",
    "\n",
    "    # 크롤링에 필요한 각 리뷰 상세 페이지의 id를 추출합니다.\n",
    "    for restaurant in restaurant_list_data['items']:\n",
    "        if 'moreBookingReviewsPath' in restaurant:\n",
    "            restaurant_id_list.append(restaurant['id'])\n",
    "\n",
    "restaurant_id_list = list(set(restaurant_id_list))\n",
    "\n"
   ]
  },
  {
   "cell_type": "code",
   "execution_count": 6,
   "metadata": {},
   "outputs": [
    {
     "name": "stdout",
     "output_type": "stream",
     "text": [
      "Crawl 0 % complete..\n",
      "Crawl 3 % complete..\n",
      "Crawl 6 % complete..\n",
      "Crawl 10 % complete..\n",
      "Crawl 13 % complete..\n",
      "Crawl 16 % complete..\n",
      "Crawl 20 % complete..\n",
      "Crawl 23 % complete..\n",
      "Crawl 26 % complete..\n",
      "Crawl 30 % complete..\n",
      "Crawl 33 % complete..\n",
      "Crawl 36 % complete..\n",
      "Crawl 40 % complete..\n",
      "Crawl 43 % complete..\n",
      "Crawl 46 % complete..\n",
      "Crawl 50 % complete..\n",
      "Crawl 53 % complete..\n",
      "Crawl 56 % complete..\n",
      "Crawl 60 % complete..\n",
      "Crawl 63 % complete..\n",
      "Crawl 66 % complete..\n",
      "Crawl 70 % complete..\n",
      "Crawl 73 % complete..\n",
      "Crawl 76 % complete..\n",
      "Crawl 80 % complete..\n",
      "Crawl 83 % complete..\n",
      "Crawl 86 % complete..\n",
      "Crawl 90 % complete..\n",
      "Crawl 93 % complete..\n",
      "Crawl 96 % complete..\n",
      "Crawl 100 % complete\n"
     ]
    }
   ],
   "source": [
    "import requests\n",
    "from bs4 import BeautifulSoup\n",
    "import re\n",
    "\n",
    "columns = ['score', 'review']\n",
    "df = pd.DataFrame(columns=columns)\n",
    "\n",
    "# 리뷰 상세 페이지의 기본 주소입니다.\n",
    "source_url_head = \"https://store.naver.com/restaurants/detail?id=\"\n",
    "source_url_tail = \"&tab=bookingReview#_tab\"\n",
    "\n",
    "for idx in range(0, len(restaurant_id_list)):\n",
    "    print(\"Crawl\", str(int(idx/len(restaurant_id_list)*100)), \"% complete..\")\n",
    "    \n",
    "    # 앞서 추출한 리뷰 상세 페이지의 id를 기본 주소의 파라미터로 추가합니다.\n",
    "    req = requests.get(source_url_head + str(restaurant_id_list[idx]) + source_url_tail)\n",
    "    html = req.content\n",
    "    soup = BeautifulSoup(html, 'lxml')\n",
    "    review_area = soup.find(name=\"div\", attrs={\"class\":\"review_area\"})\n",
    "\n",
    "    # 리뷰가 없는 페이지는 아무 작업도 수행하지 않습니다.\n",
    "    if review_area is None:\n",
    "        continue\n",
    "\n",
    "    # 개발자 도구로 살펴본 html 구조에서 리뷰의 점수, 텍스트 부분을 추출합니다.\n",
    "    review_list = review_area.find_all(name=\"div\", attrs={\"class\":\"info_area\"})\n",
    "    for review in review_list:\n",
    "        score = review.find(name=\"span\", attrs={\"class\":\"score\"}).text\n",
    "        review_txt = review.find(name=\"div\", attrs={\"class\":\"review_txt\"}).text\n",
    "\n",
    "        # 추출한 리뷰의 점수, 리뷰 텍스트를 데이터프레임으로 병합합니다.\n",
    "        row = [score, review_txt]\n",
    "        series = pd.Series(row, index=df.columns)\n",
    "        df = df.append(series, ignore_index=True)\n",
    "print(\"Crawl 100 %\", \"complete\")\n"
   ]
  },
  {
   "cell_type": "code",
   "execution_count": 7,
   "metadata": {},
   "outputs": [
    {
     "name": "stdout",
     "output_type": "stream",
     "text": [
      "(82, 3)\n"
     ]
    },
    {
     "data": {
      "text/html": [
       "<div>\n",
       "<style scoped>\n",
       "    .dataframe tbody tr th:only-of-type {\n",
       "        vertical-align: middle;\n",
       "    }\n",
       "\n",
       "    .dataframe tbody tr th {\n",
       "        vertical-align: top;\n",
       "    }\n",
       "\n",
       "    .dataframe thead th {\n",
       "        text-align: right;\n",
       "    }\n",
       "</style>\n",
       "<table border=\"1\" class=\"dataframe\">\n",
       "  <thead>\n",
       "    <tr style=\"text-align: right;\">\n",
       "      <th></th>\n",
       "      <th>score</th>\n",
       "      <th>review</th>\n",
       "      <th>y</th>\n",
       "    </tr>\n",
       "  </thead>\n",
       "  <tbody>\n",
       "    <tr>\n",
       "      <th>0</th>\n",
       "      <td>5</td>\n",
       "      <td>맛있게  잘 먹었어요~♡\\n식사중에 비가 내려서 더 좋았습니다~</td>\n",
       "      <td>1</td>\n",
       "    </tr>\n",
       "    <tr>\n",
       "      <th>1</th>\n",
       "      <td>5</td>\n",
       "      <td>집에만 있기 답답해서\\n엄마랑 단둘이 데이트하러\\n노원맛집 찾아 마실갔는데\\n아주 ...</td>\n",
       "      <td>1</td>\n",
       "    </tr>\n",
       "    <tr>\n",
       "      <th>2</th>\n",
       "      <td>4</td>\n",
       "      <td>맛있었어요! ㅎ 주차 할 곳이 없어서 조금 애먹었어요ㅠㅎㅎ 그리고 매뉴가 좀 늦게 ...</td>\n",
       "      <td>1</td>\n",
       "    </tr>\n",
       "    <tr>\n",
       "      <th>3</th>\n",
       "      <td>2</td>\n",
       "      <td>예약하고 갔더니 오늘 예약없었다고 하더라구요.\\n네이버통해 예약했다니깐 그제서야 이...</td>\n",
       "      <td>0</td>\n",
       "    </tr>\n",
       "    <tr>\n",
       "      <th>4</th>\n",
       "      <td>4</td>\n",
       "      <td>맛있었어요\\n사람이 많아서인지 \\n친절하시다는 느낌은 못받았어요;</td>\n",
       "      <td>1</td>\n",
       "    </tr>\n",
       "    <tr>\n",
       "      <th>5</th>\n",
       "      <td>5</td>\n",
       "      <td>502세컨즈카페에서 좋은 시간 보내고 갑니다 ^^\\n셋트 메뉴도 넘넘 만족스러웠오요...</td>\n",
       "      <td>1</td>\n",
       "    </tr>\n",
       "    <tr>\n",
       "      <th>6</th>\n",
       "      <td>4</td>\n",
       "      <td>위치나 주차는 편해요\\n빵은 좀 딱딱하고 소세지는 짜요~</td>\n",
       "      <td>1</td>\n",
       "    </tr>\n",
       "    <tr>\n",
       "      <th>7</th>\n",
       "      <td>5</td>\n",
       "      <td>맛도 좋고 양도 많고 ~ 가끔씩 브런치 생각날때 \\n가성비 좋습니다. ^^ \\n네이...</td>\n",
       "      <td>1</td>\n",
       "    </tr>\n",
       "    <tr>\n",
       "      <th>8</th>\n",
       "      <td>3</td>\n",
       "      <td>맛은 쏘쏘였고 음식이 다 차가웠어요\\n감자튀김, 소세지 등등...식빵은 질기구요.....</td>\n",
       "      <td>0</td>\n",
       "    </tr>\n",
       "    <tr>\n",
       "      <th>9</th>\n",
       "      <td>4</td>\n",
       "      <td>생각보다 양이 많았어요\\n중간에 남아서 포장해달랬는데 잘 해주셨구요\\n친절하셨어요\\...</td>\n",
       "      <td>1</td>\n",
       "    </tr>\n",
       "    <tr>\n",
       "      <th>10</th>\n",
       "      <td>4</td>\n",
       "      <td>맛은 있었는데 코로나 때문에 맥주가 많이 없어서 아쉬웠습니다.</td>\n",
       "      <td>1</td>\n",
       "    </tr>\n",
       "    <tr>\n",
       "      <th>11</th>\n",
       "      <td>5</td>\n",
       "      <td>매장이 쾌적하고 이쁘고 안주도 양많고 맛있었어요!</td>\n",
       "      <td>1</td>\n",
       "    </tr>\n",
       "    <tr>\n",
       "      <th>12</th>\n",
       "      <td>5</td>\n",
       "      <td>너무 맛있었어요~ 해피아워 할인으로 가성비도 미쳤고!! 재방문할거에요~</td>\n",
       "      <td>1</td>\n",
       "    </tr>\n",
       "    <tr>\n",
       "      <th>13</th>\n",
       "      <td>5</td>\n",
       "      <td>가게 분위기도 좋고 메뉴도 진짜 많아서 좋았어요! 칵테일도 맛있고 안주들도 맛있어서...</td>\n",
       "      <td>1</td>\n",
       "    </tr>\n",
       "    <tr>\n",
       "      <th>14</th>\n",
       "      <td>5</td>\n",
       "      <td>마르게리따 피자랑 파닭치킨 진짜 맛있어요\\n사장님도 친절하시고 분위기도 좋아요~</td>\n",
       "      <td>1</td>\n",
       "    </tr>\n",
       "    <tr>\n",
       "      <th>15</th>\n",
       "      <td>5</td>\n",
       "      <td>생각보다 매장도 넓고 ㅎㅎ 맥주도 맛있구 \\n무엇보다 메뉴 하나하나가 다 신경 가득...</td>\n",
       "      <td>1</td>\n",
       "    </tr>\n",
       "    <tr>\n",
       "      <th>16</th>\n",
       "      <td>5</td>\n",
       "      <td>샐러드부터 메인요리 특히 감바스가 양이 많아 좋았습니다~</td>\n",
       "      <td>1</td>\n",
       "    </tr>\n",
       "    <tr>\n",
       "      <th>17</th>\n",
       "      <td>5</td>\n",
       "      <td>분위기도 외국펍 느낌나고 치킨이랑 감바스 너무 맛있었어요~수제맥주에 대해서 잘 모르...</td>\n",
       "      <td>1</td>\n",
       "    </tr>\n",
       "    <tr>\n",
       "      <th>18</th>\n",
       "      <td>5</td>\n",
       "      <td>맥주의 종류도 다양하고 안주도 정말 맛있어요 ㅜ_ㅜ! 가족단위나 친구로 오기 좋을고...</td>\n",
       "      <td>1</td>\n",
       "    </tr>\n",
       "    <tr>\n",
       "      <th>19</th>\n",
       "      <td>5</td>\n",
       "      <td>이렇게 맛있는 안주랑 맛있는 맥주집이 저희집근처에있는줄 몰랐어요 분위기도 너무좋고 ...</td>\n",
       "      <td>1</td>\n",
       "    </tr>\n",
       "    <tr>\n",
       "      <th>20</th>\n",
       "      <td>5</td>\n",
       "      <td>서비스 잘 챙겨주셔서 감사합니다^^</td>\n",
       "      <td>1</td>\n",
       "    </tr>\n",
       "    <tr>\n",
       "      <th>21</th>\n",
       "      <td>2.5</td>\n",
       "      <td>서비스가  별로예요\\n</td>\n",
       "      <td>0</td>\n",
       "    </tr>\n",
       "    <tr>\n",
       "      <th>22</th>\n",
       "      <td>4</td>\n",
       "      <td>좋았어요 칠리새우가 특히 맛있네요 스시는 먹을만했어요</td>\n",
       "      <td>1</td>\n",
       "    </tr>\n",
       "    <tr>\n",
       "      <th>23</th>\n",
       "      <td>5</td>\n",
       "      <td>뷔페중엔 다섯손가락안에드네요</td>\n",
       "      <td>1</td>\n",
       "    </tr>\n",
       "    <tr>\n",
       "      <th>24</th>\n",
       "      <td>1.5</td>\n",
       "      <td>튀김은 다 딱딱하고 회도 별로 안신선하고\\n대게도 없고 모밀도 맛없고 디저트도 그냥...</td>\n",
       "      <td>0</td>\n",
       "    </tr>\n",
       "    <tr>\n",
       "      <th>25</th>\n",
       "      <td>4.5</td>\n",
       "      <td>디저트도 맛있고 특히 피자가 넘넘 맛있었어요</td>\n",
       "      <td>1</td>\n",
       "    </tr>\n",
       "    <tr>\n",
       "      <th>26</th>\n",
       "      <td>3.5</td>\n",
       "      <td>초밥이  말라있어서 아쉬움\\n디저트류가 좀더 다양 맛있었으면 하는 바람</td>\n",
       "      <td>1</td>\n",
       "    </tr>\n",
       "    <tr>\n",
       "      <th>27</th>\n",
       "      <td>1</td>\n",
       "      <td>비추합니다. 가격은 가격대로 비싼데 요즘 사람이 없어서인지 음식 회전이 되지않아 초...</td>\n",
       "      <td>0</td>\n",
       "    </tr>\n",
       "    <tr>\n",
       "      <th>28</th>\n",
       "      <td>5</td>\n",
       "      <td>깔끔했고 맛있었음..직원들은 아주 친절했음</td>\n",
       "      <td>1</td>\n",
       "    </tr>\n",
       "    <tr>\n",
       "      <th>29</th>\n",
       "      <td>5</td>\n",
       "      <td>생각보다 좋았어요</td>\n",
       "      <td>1</td>\n",
       "    </tr>\n",
       "    <tr>\n",
       "      <th>30</th>\n",
       "      <td>5</td>\n",
       "      <td>손님들에게 마스크&amp;위생장갑 착용권고 듯 철저한 위생관리로 안심하고 식사할 수 있어서...</td>\n",
       "      <td>1</td>\n",
       "    </tr>\n",
       "    <tr>\n",
       "      <th>31</th>\n",
       "      <td>5</td>\n",
       "      <td>아주 좋았습니다 맛도 좋고 직원들도 친절해서 좋았습니다 ~^^</td>\n",
       "      <td>1</td>\n",
       "    </tr>\n",
       "    <tr>\n",
       "      <th>32</th>\n",
       "      <td>4</td>\n",
       "      <td>맛있어요. 배불러요</td>\n",
       "      <td>1</td>\n",
       "    </tr>\n",
       "    <tr>\n",
       "      <th>33</th>\n",
       "      <td>2</td>\n",
       "      <td>요리류들은 보통~~\\n솥밥에 나온 된장찌개가 너무 짜고\\n반찬도 짜고\\n후식이 다소...</td>\n",
       "      <td>0</td>\n",
       "    </tr>\n",
       "    <tr>\n",
       "      <th>34</th>\n",
       "      <td>4</td>\n",
       "      <td>딱 상견례를 위한 장소 다웠습니다. 전반적으로 밥도 괜찮고 서비스도 괜찮았습니다.</td>\n",
       "      <td>1</td>\n",
       "    </tr>\n",
       "    <tr>\n",
       "      <th>35</th>\n",
       "      <td>4</td>\n",
       "      <td>잘 먹고 왔습니다</td>\n",
       "      <td>1</td>\n",
       "    </tr>\n",
       "    <tr>\n",
       "      <th>36</th>\n",
       "      <td>4</td>\n",
       "      <td>직원분들 친절하셨고 음식도 대체적으로 만족했습니다. 즐거운시간 만들게 해주셔서 감사합니다</td>\n",
       "      <td>1</td>\n",
       "    </tr>\n",
       "    <tr>\n",
       "      <th>37</th>\n",
       "      <td>5</td>\n",
       "      <td>너무 잘 먹었습니다 주변사람에게 얼른 알려줘야겠어요</td>\n",
       "      <td>1</td>\n",
       "    </tr>\n",
       "    <tr>\n",
       "      <th>38</th>\n",
       "      <td>5</td>\n",
       "      <td>잘 준비해주신 덕분에 상견례 잘 마쳤습니다. 감사합니다^^</td>\n",
       "      <td>1</td>\n",
       "    </tr>\n",
       "    <tr>\n",
       "      <th>39</th>\n",
       "      <td>5</td>\n",
       "      <td>음식 맛있게 먹엇고\\n조용한 방으로 안내해주셔서 상견례 잘 끝났습니다.!\\n감사해요!</td>\n",
       "      <td>1</td>\n",
       "    </tr>\n",
       "    <tr>\n",
       "      <th>40</th>\n",
       "      <td>3</td>\n",
       "      <td>플레이팅이나 음식 종류는 다양한 편이였으나 음식 맛은 전반적으로 아쉬움이 있는거 같...</td>\n",
       "      <td>0</td>\n",
       "    </tr>\n",
       "    <tr>\n",
       "      <th>41</th>\n",
       "      <td>5</td>\n",
       "      <td>송별회겸 6명의 조촐한 모임이었는데 룸을 따로 해주셔서 아늑한 분위기에서 맛있게 식...</td>\n",
       "      <td>1</td>\n",
       "    </tr>\n",
       "    <tr>\n",
       "      <th>42</th>\n",
       "      <td>5</td>\n",
       "      <td>맛 좋아여 다시방문예정</td>\n",
       "      <td>1</td>\n",
       "    </tr>\n",
       "    <tr>\n",
       "      <th>43</th>\n",
       "      <td>4.5</td>\n",
       "      <td>맛있게 잘 먹었습니다.\\n다음에 또 갈게요.</td>\n",
       "      <td>1</td>\n",
       "    </tr>\n",
       "    <tr>\n",
       "      <th>44</th>\n",
       "      <td>5</td>\n",
       "      <td>일찍 가니까 할인도 받구~음식도 신선하고 조용하고! 너무 좋았어요~~!</td>\n",
       "      <td>1</td>\n",
       "    </tr>\n",
       "    <tr>\n",
       "      <th>45</th>\n",
       "      <td>5</td>\n",
       "      <td>예약날짜 잘못하고갔는데도 자리 잘잡아 주셔서 편하게 식사하고 왔어요.\\n노원점은 다...</td>\n",
       "      <td>1</td>\n",
       "    </tr>\n",
       "    <tr>\n",
       "      <th>46</th>\n",
       "      <td>4</td>\n",
       "      <td>음식이 빨리 채워지질 않은게 좀 아쉽네요 그래도 예약덕분에 빠르게 들어갔어요</td>\n",
       "      <td>1</td>\n",
       "    </tr>\n",
       "    <tr>\n",
       "      <th>47</th>\n",
       "      <td>1</td>\n",
       "      <td>음식이 별로였습니다</td>\n",
       "      <td>0</td>\n",
       "    </tr>\n",
       "    <tr>\n",
       "      <th>48</th>\n",
       "      <td>3</td>\n",
       "      <td>보통이예요\\n</td>\n",
       "      <td>0</td>\n",
       "    </tr>\n",
       "    <tr>\n",
       "      <th>49</th>\n",
       "      <td>4</td>\n",
       "      <td>음식 종류나 질은 나쁘지않았지만 직원분이 부족해서인지 비어있는 음식이라던지 부족한 ...</td>\n",
       "      <td>1</td>\n",
       "    </tr>\n",
       "    <tr>\n",
       "      <th>50</th>\n",
       "      <td>2</td>\n",
       "      <td>좁고\\n음식이 다른 지점에 비해 짠 것 같아요</td>\n",
       "      <td>0</td>\n",
       "    </tr>\n",
       "    <tr>\n",
       "      <th>51</th>\n",
       "      <td>4</td>\n",
       "      <td>스시,롤종류가엄청많아서놀랬고~맛을보니맛있어서두번놀랐어요~후식과~차종류도다양해서~좋았...</td>\n",
       "      <td>1</td>\n",
       "    </tr>\n",
       "    <tr>\n",
       "      <th>52</th>\n",
       "      <td>5</td>\n",
       "      <td>음식도 맛있고\\n카운터에 계신 사장님이 너무 친절함\\n그리고 홀 직원들도 친절\\n재...</td>\n",
       "      <td>1</td>\n",
       "    </tr>\n",
       "    <tr>\n",
       "      <th>53</th>\n",
       "      <td>5</td>\n",
       "      <td>가족모임으로 5명 방문. 개별실 예약.\\n요리2 식사4 주문 양장피 스몰 탕수육 미...</td>\n",
       "      <td>1</td>\n",
       "    </tr>\n",
       "    <tr>\n",
       "      <th>54</th>\n",
       "      <td>4</td>\n",
       "      <td>저희 가족 입맛에는 간이 쎈거같아요! 음식은 짠거 빼고는 맛있었고 서비스도 좋았어요~~</td>\n",
       "      <td>1</td>\n",
       "    </tr>\n",
       "    <tr>\n",
       "      <th>55</th>\n",
       "      <td>4</td>\n",
       "      <td>분위기 식사내용 재료 맛 \\n대체로 좋습니다</td>\n",
       "      <td>1</td>\n",
       "    </tr>\n",
       "    <tr>\n",
       "      <th>56</th>\n",
       "      <td>5</td>\n",
       "      <td>가족식사로 찹쌀탕수육 칠리새우 등 먹었어요! 네이버로 예약해서 군만두도 주셨는데 군...</td>\n",
       "      <td>1</td>\n",
       "    </tr>\n",
       "    <tr>\n",
       "      <th>57</th>\n",
       "      <td>5</td>\n",
       "      <td>친절하고 맛있어요!!! 탕수육과 잡탕밥이 일품이고, 짬뽕도 불맛나고 맛있습니다~~</td>\n",
       "      <td>1</td>\n",
       "    </tr>\n",
       "    <tr>\n",
       "      <th>58</th>\n",
       "      <td>4.5</td>\n",
       "      <td>슈엔차이로 바뀌고는 처음 갔는데 인테리어도 고급스럽고 직원분들도 친절하시고 음식도 ...</td>\n",
       "      <td>1</td>\n",
       "    </tr>\n",
       "    <tr>\n",
       "      <th>59</th>\n",
       "      <td>5</td>\n",
       "      <td>맛도 괜찮고 직원분들 다 친절해서 너무 좋았어요.\\n어머니 모시고 갔는데 아주 배부...</td>\n",
       "      <td>1</td>\n",
       "    </tr>\n",
       "  </tbody>\n",
       "</table>\n",
       "</div>"
      ],
      "text/plain": [
       "   score                                             review  y\n",
       "0      5                맛있게  잘 먹었어요~♡\\n식사중에 비가 내려서 더 좋았습니다~  1\n",
       "1      5  집에만 있기 답답해서\\n엄마랑 단둘이 데이트하러\\n노원맛집 찾아 마실갔는데\\n아주 ...  1\n",
       "2      4  맛있었어요! ㅎ 주차 할 곳이 없어서 조금 애먹었어요ㅠㅎㅎ 그리고 매뉴가 좀 늦게 ...  1\n",
       "3      2  예약하고 갔더니 오늘 예약없었다고 하더라구요.\\n네이버통해 예약했다니깐 그제서야 이...  0\n",
       "4      4               맛있었어요\\n사람이 많아서인지 \\n친절하시다는 느낌은 못받았어요;  1\n",
       "5      5  502세컨즈카페에서 좋은 시간 보내고 갑니다 ^^\\n셋트 메뉴도 넘넘 만족스러웠오요...  1\n",
       "6      4                    위치나 주차는 편해요\\n빵은 좀 딱딱하고 소세지는 짜요~  1\n",
       "7      5  맛도 좋고 양도 많고 ~ 가끔씩 브런치 생각날때 \\n가성비 좋습니다. ^^ \\n네이...  1\n",
       "8      3  맛은 쏘쏘였고 음식이 다 차가웠어요\\n감자튀김, 소세지 등등...식빵은 질기구요.....  0\n",
       "9      4  생각보다 양이 많았어요\\n중간에 남아서 포장해달랬는데 잘 해주셨구요\\n친절하셨어요\\...  1\n",
       "10     4                 맛은 있었는데 코로나 때문에 맥주가 많이 없어서 아쉬웠습니다.  1\n",
       "11     5                       매장이 쾌적하고 이쁘고 안주도 양많고 맛있었어요!   1\n",
       "12     5            너무 맛있었어요~ 해피아워 할인으로 가성비도 미쳤고!! 재방문할거에요~  1\n",
       "13     5  가게 분위기도 좋고 메뉴도 진짜 많아서 좋았어요! 칵테일도 맛있고 안주들도 맛있어서...  1\n",
       "14     5       마르게리따 피자랑 파닭치킨 진짜 맛있어요\\n사장님도 친절하시고 분위기도 좋아요~  1\n",
       "15     5  생각보다 매장도 넓고 ㅎㅎ 맥주도 맛있구 \\n무엇보다 메뉴 하나하나가 다 신경 가득...  1\n",
       "16     5                    샐러드부터 메인요리 특히 감바스가 양이 많아 좋았습니다~  1\n",
       "17     5  분위기도 외국펍 느낌나고 치킨이랑 감바스 너무 맛있었어요~수제맥주에 대해서 잘 모르...  1\n",
       "18     5  맥주의 종류도 다양하고 안주도 정말 맛있어요 ㅜ_ㅜ! 가족단위나 친구로 오기 좋을고...  1\n",
       "19     5  이렇게 맛있는 안주랑 맛있는 맥주집이 저희집근처에있는줄 몰랐어요 분위기도 너무좋고 ...  1\n",
       "20     5                                서비스 잘 챙겨주셔서 감사합니다^^  1\n",
       "21   2.5                                       서비스가  별로예요\\n  0\n",
       "22     4                      좋았어요 칠리새우가 특히 맛있네요 스시는 먹을만했어요  1\n",
       "23     5                                    뷔페중엔 다섯손가락안에드네요  1\n",
       "24   1.5  튀김은 다 딱딱하고 회도 별로 안신선하고\\n대게도 없고 모밀도 맛없고 디저트도 그냥...  0\n",
       "25   4.5                           디저트도 맛있고 특히 피자가 넘넘 맛있었어요  1\n",
       "26   3.5            초밥이  말라있어서 아쉬움\\n디저트류가 좀더 다양 맛있었으면 하는 바람  1\n",
       "27     1  비추합니다. 가격은 가격대로 비싼데 요즘 사람이 없어서인지 음식 회전이 되지않아 초...  0\n",
       "28     5                            깔끔했고 맛있었음..직원들은 아주 친절했음  1\n",
       "29     5                                          생각보다 좋았어요  1\n",
       "30     5  손님들에게 마스크&위생장갑 착용권고 듯 철저한 위생관리로 안심하고 식사할 수 있어서...  1\n",
       "31     5                 아주 좋았습니다 맛도 좋고 직원들도 친절해서 좋았습니다 ~^^  1\n",
       "32     4                                         맛있어요. 배불러요  1\n",
       "33     2  요리류들은 보통~~\\n솥밥에 나온 된장찌개가 너무 짜고\\n반찬도 짜고\\n후식이 다소...  0\n",
       "34     4      딱 상견례를 위한 장소 다웠습니다. 전반적으로 밥도 괜찮고 서비스도 괜찮았습니다.  1\n",
       "35     4                                          잘 먹고 왔습니다  1\n",
       "36     4  직원분들 친절하셨고 음식도 대체적으로 만족했습니다. 즐거운시간 만들게 해주셔서 감사합니다  1\n",
       "37     5                       너무 잘 먹었습니다 주변사람에게 얼른 알려줘야겠어요  1\n",
       "38     5                   잘 준비해주신 덕분에 상견례 잘 마쳤습니다. 감사합니다^^  1\n",
       "39     5    음식 맛있게 먹엇고\\n조용한 방으로 안내해주셔서 상견례 잘 끝났습니다.!\\n감사해요!  1\n",
       "40     3  플레이팅이나 음식 종류는 다양한 편이였으나 음식 맛은 전반적으로 아쉬움이 있는거 같...  0\n",
       "41     5  송별회겸 6명의 조촐한 모임이었는데 룸을 따로 해주셔서 아늑한 분위기에서 맛있게 식...  1\n",
       "42     5                                       맛 좋아여 다시방문예정  1\n",
       "43   4.5                           맛있게 잘 먹었습니다.\\n다음에 또 갈게요.  1\n",
       "44     5            일찍 가니까 할인도 받구~음식도 신선하고 조용하고! 너무 좋았어요~~!  1\n",
       "45     5  예약날짜 잘못하고갔는데도 자리 잘잡아 주셔서 편하게 식사하고 왔어요.\\n노원점은 다...  1\n",
       "46     4         음식이 빨리 채워지질 않은게 좀 아쉽네요 그래도 예약덕분에 빠르게 들어갔어요  1\n",
       "47     1                                         음식이 별로였습니다  0\n",
       "48     3                                            보통이예요\\n  0\n",
       "49     4  음식 종류나 질은 나쁘지않았지만 직원분이 부족해서인지 비어있는 음식이라던지 부족한 ...  1\n",
       "50     2                          좁고\\n음식이 다른 지점에 비해 짠 것 같아요  0\n",
       "51     4  스시,롤종류가엄청많아서놀랬고~맛을보니맛있어서두번놀랐어요~후식과~차종류도다양해서~좋았...  1\n",
       "52     5  음식도 맛있고\\n카운터에 계신 사장님이 너무 친절함\\n그리고 홀 직원들도 친절\\n재...  1\n",
       "53     5  가족모임으로 5명 방문. 개별실 예약.\\n요리2 식사4 주문 양장피 스몰 탕수육 미...  1\n",
       "54     4   저희 가족 입맛에는 간이 쎈거같아요! 음식은 짠거 빼고는 맛있었고 서비스도 좋았어요~~  1\n",
       "55     4                           분위기 식사내용 재료 맛 \\n대체로 좋습니다  1\n",
       "56     5  가족식사로 찹쌀탕수육 칠리새우 등 먹었어요! 네이버로 예약해서 군만두도 주셨는데 군...  1\n",
       "57     5      친절하고 맛있어요!!! 탕수육과 잡탕밥이 일품이고, 짬뽕도 불맛나고 맛있습니다~~  1\n",
       "58   4.5  슈엔차이로 바뀌고는 처음 갔는데 인테리어도 고급스럽고 직원분들도 친절하시고 음식도 ...  1\n",
       "59     5  맛도 괜찮고 직원분들 다 친절해서 너무 좋았어요.\\n어머니 모시고 갔는데 아주 배부...  1"
      ]
     },
     "execution_count": 7,
     "metadata": {},
     "output_type": "execute_result"
    }
   ],
   "source": [
    "# 4점 이상의 리뷰는 긍정 리뷰, 3점 이하의 리뷰는 부정 리뷰로 평가합니다.\n",
    "df['y'] = df['score'].apply(lambda x: 1 if float(x) > 3 else 0)\n",
    "print(df.shape)\n",
    "df.head(60)\n"
   ]
  },
  {
   "cell_type": "code",
   "execution_count": 8,
   "metadata": {},
   "outputs": [],
   "source": [
    "df.to_csv(\"review_data.csv\", index=False)"
   ]
  },
  {
   "cell_type": "code",
   "execution_count": 9,
   "metadata": {},
   "outputs": [],
   "source": [
    "df = pd.read_csv(\"./review_data.csv\")"
   ]
  },
  {
   "cell_type": "code",
   "execution_count": 10,
   "metadata": {},
   "outputs": [],
   "source": [
    "import re\n",
    "\n",
    "# 텍스트 정제 함수 : 한글 이외의 문자는 전부 제거\n",
    "def text_cleaning(text):\n",
    "    # 한글의 정규표현식으로 한글만 추출합니다.\n",
    "    hangul = re.compile('[^ ㄱ-ㅣ가-힣]+')\n",
    "    #hangul = re.compile('[\\u3131-\\u3163\\uac00-\\ud7a3]+')\n",
    "    #hangul = re.findall(u\"[a-zA-Z0-9]\", myStr)\n",
    "    #hangul = re.findall(u\"[\\w]\", myStr)\n",
    "    result = hangul.sub('', text)\n",
    "    return result"
   ]
  },
  {
   "cell_type": "code",
   "execution_count": 11,
   "metadata": {},
   "outputs": [
    {
     "data": {
      "text/html": [
       "<div>\n",
       "<style scoped>\n",
       "    .dataframe tbody tr th:only-of-type {\n",
       "        vertical-align: middle;\n",
       "    }\n",
       "\n",
       "    .dataframe tbody tr th {\n",
       "        vertical-align: top;\n",
       "    }\n",
       "\n",
       "    .dataframe thead th {\n",
       "        text-align: right;\n",
       "    }\n",
       "</style>\n",
       "<table border=\"1\" class=\"dataframe\">\n",
       "  <thead>\n",
       "    <tr style=\"text-align: right;\">\n",
       "      <th></th>\n",
       "      <th>score</th>\n",
       "      <th>y</th>\n",
       "      <th>ko_text</th>\n",
       "    </tr>\n",
       "  </thead>\n",
       "  <tbody>\n",
       "    <tr>\n",
       "      <th>0</th>\n",
       "      <td>5.0</td>\n",
       "      <td>1</td>\n",
       "      <td>맛있게  잘 먹었어요식사중에 비가 내려서 더 좋았습니다</td>\n",
       "    </tr>\n",
       "    <tr>\n",
       "      <th>1</th>\n",
       "      <td>5.0</td>\n",
       "      <td>1</td>\n",
       "      <td>집에만 있기 답답해서엄마랑 단둘이 데이트하러노원맛집 찾아 마실갔는데아주 만족스러운 ...</td>\n",
       "    </tr>\n",
       "    <tr>\n",
       "      <th>2</th>\n",
       "      <td>4.0</td>\n",
       "      <td>1</td>\n",
       "      <td>맛있었어요 ㅎ 주차 할 곳이 없어서 조금 애먹었어요ㅠㅎㅎ 그리고 매뉴가 좀 늦게 나...</td>\n",
       "    </tr>\n",
       "    <tr>\n",
       "      <th>3</th>\n",
       "      <td>2.0</td>\n",
       "      <td>0</td>\n",
       "      <td>예약하고 갔더니 오늘 예약없었다고 하더라구요네이버통해 예약했다니깐 그제서야 이름 얘...</td>\n",
       "    </tr>\n",
       "    <tr>\n",
       "      <th>4</th>\n",
       "      <td>4.0</td>\n",
       "      <td>1</td>\n",
       "      <td>맛있었어요사람이 많아서인지 친절하시다는 느낌은 못받았어요</td>\n",
       "    </tr>\n",
       "  </tbody>\n",
       "</table>\n",
       "</div>"
      ],
      "text/plain": [
       "   score  y                                            ko_text\n",
       "0    5.0  1                     맛있게  잘 먹었어요식사중에 비가 내려서 더 좋았습니다\n",
       "1    5.0  1  집에만 있기 답답해서엄마랑 단둘이 데이트하러노원맛집 찾아 마실갔는데아주 만족스러운 ...\n",
       "2    4.0  1  맛있었어요 ㅎ 주차 할 곳이 없어서 조금 애먹었어요ㅠㅎㅎ 그리고 매뉴가 좀 늦게 나...\n",
       "3    2.0  0  예약하고 갔더니 오늘 예약없었다고 하더라구요네이버통해 예약했다니깐 그제서야 이름 얘...\n",
       "4    4.0  1                    맛있었어요사람이 많아서인지 친절하시다는 느낌은 못받았어요"
      ]
     },
     "execution_count": 11,
     "metadata": {},
     "output_type": "execute_result"
    }
   ],
   "source": [
    "# 함수를 적용하여 리뷰에서 한글만 추출합니다.\n",
    "df['ko_text'] = df['review'].apply(lambda x: text_cleaning(x))\n",
    "del df['review']\n",
    "df.head()"
   ]
  },
  {
   "cell_type": "code",
   "execution_count": 12,
   "metadata": {},
   "outputs": [
    {
     "data": {
      "text/html": [
       "<div>\n",
       "<style scoped>\n",
       "    .dataframe tbody tr th:only-of-type {\n",
       "        vertical-align: middle;\n",
       "    }\n",
       "\n",
       "    .dataframe tbody tr th {\n",
       "        vertical-align: top;\n",
       "    }\n",
       "\n",
       "    .dataframe thead th {\n",
       "        text-align: right;\n",
       "    }\n",
       "</style>\n",
       "<table border=\"1\" class=\"dataframe\">\n",
       "  <thead>\n",
       "    <tr style=\"text-align: right;\">\n",
       "      <th></th>\n",
       "      <th>score</th>\n",
       "      <th>y</th>\n",
       "      <th>ko_text</th>\n",
       "    </tr>\n",
       "  </thead>\n",
       "  <tbody>\n",
       "    <tr>\n",
       "      <th>0</th>\n",
       "      <td>5.0</td>\n",
       "      <td>1</td>\n",
       "      <td>맛있게  잘 먹었어요식사중에 비가 내려서 더 좋았습니다</td>\n",
       "    </tr>\n",
       "    <tr>\n",
       "      <th>1</th>\n",
       "      <td>5.0</td>\n",
       "      <td>1</td>\n",
       "      <td>집에만 있기 답답해서엄마랑 단둘이 데이트하러노원맛집 찾아 마실갔는데아주 만족스러운 ...</td>\n",
       "    </tr>\n",
       "    <tr>\n",
       "      <th>2</th>\n",
       "      <td>4.0</td>\n",
       "      <td>1</td>\n",
       "      <td>맛있었어요 ㅎ 주차 할 곳이 없어서 조금 애먹었어요ㅠㅎㅎ 그리고 매뉴가 좀 늦게 나...</td>\n",
       "    </tr>\n",
       "    <tr>\n",
       "      <th>3</th>\n",
       "      <td>2.0</td>\n",
       "      <td>0</td>\n",
       "      <td>예약하고 갔더니 오늘 예약없었다고 하더라구요네이버통해 예약했다니깐 그제서야 이름 얘...</td>\n",
       "    </tr>\n",
       "    <tr>\n",
       "      <th>4</th>\n",
       "      <td>4.0</td>\n",
       "      <td>1</td>\n",
       "      <td>맛있었어요사람이 많아서인지 친절하시다는 느낌은 못받았어요</td>\n",
       "    </tr>\n",
       "    <tr>\n",
       "      <th>...</th>\n",
       "      <td>...</td>\n",
       "      <td>...</td>\n",
       "      <td>...</td>\n",
       "    </tr>\n",
       "    <tr>\n",
       "      <th>77</th>\n",
       "      <td>3.0</td>\n",
       "      <td>0</td>\n",
       "      <td>서비스와 파스타 피자는 모두 좋았는데스테이크가 살짝 아쉽네요</td>\n",
       "    </tr>\n",
       "    <tr>\n",
       "      <th>78</th>\n",
       "      <td>5.0</td>\n",
       "      <td>1</td>\n",
       "      <td>가격도 좋고 서비스 맛도 좋아요ㅎ</td>\n",
       "    </tr>\n",
       "    <tr>\n",
       "      <th>79</th>\n",
       "      <td>5.0</td>\n",
       "      <td>1</td>\n",
       "      <td>깔끔하고 맛있어요</td>\n",
       "    </tr>\n",
       "    <tr>\n",
       "      <th>80</th>\n",
       "      <td>5.0</td>\n",
       "      <td>1</td>\n",
       "      <td>맛있어요</td>\n",
       "    </tr>\n",
       "    <tr>\n",
       "      <th>81</th>\n",
       "      <td>5.0</td>\n",
       "      <td>1</td>\n",
       "      <td>맛도좋고 서비스도 좋았습니다특히 피자가 맛있었어요</td>\n",
       "    </tr>\n",
       "  </tbody>\n",
       "</table>\n",
       "<p>82 rows × 3 columns</p>\n",
       "</div>"
      ],
      "text/plain": [
       "    score  y                                            ko_text\n",
       "0     5.0  1                     맛있게  잘 먹었어요식사중에 비가 내려서 더 좋았습니다\n",
       "1     5.0  1  집에만 있기 답답해서엄마랑 단둘이 데이트하러노원맛집 찾아 마실갔는데아주 만족스러운 ...\n",
       "2     4.0  1  맛있었어요 ㅎ 주차 할 곳이 없어서 조금 애먹었어요ㅠㅎㅎ 그리고 매뉴가 좀 늦게 나...\n",
       "3     2.0  0  예약하고 갔더니 오늘 예약없었다고 하더라구요네이버통해 예약했다니깐 그제서야 이름 얘...\n",
       "4     4.0  1                    맛있었어요사람이 많아서인지 친절하시다는 느낌은 못받았어요\n",
       "..    ... ..                                                ...\n",
       "77    3.0  0                  서비스와 파스타 피자는 모두 좋았는데스테이크가 살짝 아쉽네요\n",
       "78    5.0  1                                 가격도 좋고 서비스 맛도 좋아요ㅎ\n",
       "79    5.0  1                                          깔끔하고 맛있어요\n",
       "80    5.0  1                                               맛있어요\n",
       "81    5.0  1                        맛도좋고 서비스도 좋았습니다특히 피자가 맛있었어요\n",
       "\n",
       "[82 rows x 3 columns]"
      ]
     },
     "execution_count": 12,
     "metadata": {},
     "output_type": "execute_result"
    }
   ],
   "source": [
    "df.head(82)"
   ]
  },
  {
   "cell_type": "code",
   "execution_count": 13,
   "metadata": {},
   "outputs": [
    {
     "data": {
      "text/plain": [
       "'맛있게  잘 먹었어요식사중에 비가 내려서 더 좋았습니다'"
      ]
     },
     "execution_count": 13,
     "metadata": {},
     "output_type": "execute_result"
    }
   ],
   "source": [
    "df['ko_text'][0]"
   ]
  },
  {
   "cell_type": "code",
   "execution_count": null,
   "metadata": {},
   "outputs": [],
   "source": [
    "#!pip install JPype1-0.7.5-cp37-cp37m-win32.whl"
   ]
  },
  {
   "cell_type": "code",
   "execution_count": null,
   "metadata": {},
   "outputs": [],
   "source": [
    "#!pip install --upgrade pip & pip3 install -U pip"
   ]
  },
  {
   "cell_type": "code",
   "execution_count": null,
   "metadata": {},
   "outputs": [],
   "source": [
    "#!pip install konlpy"
   ]
  },
  {
   "cell_type": "code",
   "execution_count": 14,
   "metadata": {},
   "outputs": [],
   "source": [
    "from konlpy.tag import Okt\n",
    "\n",
    "# konlpy라이브러리로 텍스트 데이터에서 형태소를 추출합니다.\n",
    "def get_pos(x):\n",
    "    tagger = Okt()\n",
    "    pos = tagger.pos(x)\n",
    "    pos = ['{}/{}'.format(word,tag) for word, tag in pos]\n",
    "    return pos\n"
   ]
  },
  {
   "cell_type": "code",
   "execution_count": 15,
   "metadata": {},
   "outputs": [
    {
     "name": "stdout",
     "output_type": "stream",
     "text": [
      "['맛있게/Adjective', '잘/Verb', '먹었어요/Verb', '식사/Noun', '중/Suffix', '에/Josa', '비/Noun', '가/Josa', '내려서/Verb', '더/Noun', '좋았습니다/Adjective']\n"
     ]
    }
   ],
   "source": [
    "# 형태소 추출 동작을 테스트합니다.\n",
    "result = get_pos(df['ko_text'][0])\n",
    "print(result)"
   ]
  },
  {
   "cell_type": "code",
   "execution_count": 16,
   "metadata": {},
   "outputs": [],
   "source": [
    "from sklearn.feature_extraction.text import CountVectorizer\n",
    "\n",
    "# 형태소를 벡터 형태의 학습 데이터셋(X 데이터)으로 변환합니다.\n",
    "index_vectorizer = CountVectorizer(tokenizer = lambda x: get_pos(x))\n",
    "X = index_vectorizer.fit_transform(df['ko_text'].tolist())\n"
   ]
  },
  {
   "cell_type": "code",
   "execution_count": 17,
   "metadata": {},
   "outputs": [
    {
     "data": {
      "text/plain": [
       "(82, 842)"
      ]
     },
     "execution_count": 17,
     "metadata": {},
     "output_type": "execute_result"
    }
   ],
   "source": [
    "X.shape"
   ]
  },
  {
   "cell_type": "code",
   "execution_count": 18,
   "metadata": {},
   "outputs": [
    {
     "name": "stdout",
     "output_type": "stream",
     "text": [
      "{'맛있게/Adjective': 267, '잘/Verb': 623, '먹었어요/Verb': 298, '식사/Noun': 448, '중/Suffix': 687, '에/Josa': 5..\n"
     ]
    }
   ],
   "source": [
    "print(str(index_vectorizer.vocabulary_)[:100]+\"..\")"
   ]
  },
  {
   "cell_type": "code",
   "execution_count": 19,
   "metadata": {},
   "outputs": [
    {
     "name": "stdout",
     "output_type": "stream",
     "text": [
      "맛있게  잘 먹었어요식사중에 비가 내려서 더 좋았습니다\n",
      "  (0, 267)\t1\n",
      "  (0, 623)\t1\n",
      "  (0, 298)\t1\n",
      "  (0, 448)\t1\n",
      "  (0, 687)\t1\n",
      "  (0, 514)\t1\n",
      "  (0, 387)\t1\n",
      "  (0, 11)\t1\n",
      "  (0, 122)\t1\n",
      "  (0, 175)\t1\n",
      "  (0, 676)\t1\n"
     ]
    }
   ],
   "source": [
    "print(df['ko_text'][0])\n",
    "print(X[0])"
   ]
  },
  {
   "cell_type": "code",
   "execution_count": 20,
   "metadata": {},
   "outputs": [
    {
     "name": "stdout",
     "output_type": "stream",
     "text": [
      "(57, 842)\n",
      "(25, 842)\n"
     ]
    }
   ],
   "source": [
    "from sklearn.model_selection import train_test_split\n",
    "\n",
    "y = df['y']\n",
    "x_train, x_test, y_train, y_test = train_test_split(X, y, test_size=0.30)\n",
    "print(x_train.shape)\n",
    "print(x_test.shape)\n"
   ]
  },
  {
   "cell_type": "code",
   "execution_count": 21,
   "metadata": {},
   "outputs": [
    {
     "name": "stdout",
     "output_type": "stream",
     "text": [
      "accuracy: 0.80\n",
      "Precision : 0.800\n",
      "Recall : 1.000\n",
      "F1 : 0.889\n"
     ]
    }
   ],
   "source": [
    "from sklearn.linear_model import LogisticRegression\n",
    "from sklearn.metrics import accuracy_score, precision_score, recall_score, f1_score\n",
    "\n",
    "# 로지스틱 회귀모델을 학습합니다.\n",
    "lr = LogisticRegression(random_state=0)\n",
    "lr.fit(x_train, y_train)\n",
    "y_pred = lr.predict(x_test)\n",
    "y_pred_probability = lr.predict_proba(x_test)[:,1]\n",
    "\n",
    "# 로지스틱 회귀모델의 성능을 평가합니다.\n",
    "print(\"accuracy: %.2f\" % accuracy_score(y_test, y_pred))\n",
    "print(\"Precision : %.3f\" % precision_score(y_test, y_pred))\n",
    "print(\"Recall : %.3f\" % recall_score(y_test, y_pred))\n",
    "print(\"F1 : %.3f\" % f1_score(y_test, y_pred))\n"
   ]
  },
  {
   "cell_type": "code",
   "execution_count": 22,
   "metadata": {},
   "outputs": [
    {
     "name": "stdout",
     "output_type": "stream",
     "text": [
      "[[ 0  5]\n",
      " [ 0 20]]\n"
     ]
    }
   ],
   "source": [
    "from sklearn.metrics import confusion_matrix\n",
    "\n",
    "# Confusion Matrix를 출력합니다.\n",
    "confmat = confusion_matrix(y_true=y_test, y_pred=y_pred)\n",
    "print(confmat)\n"
   ]
  },
  {
   "cell_type": "code",
   "execution_count": 23,
   "metadata": {},
   "outputs": [
    {
     "name": "stdout",
     "output_type": "stream",
     "text": [
      "AUC : 0.910\n"
     ]
    },
    {
     "data": {
      "text/plain": [
       "<matplotlib.legend.Legend at 0x213faa17f08>"
      ]
     },
     "execution_count": 23,
     "metadata": {},
     "output_type": "execute_result"
    },
    {
     "data": {
      "image/png": "[encoded data removed]",
      "text/plain": [
       "<Figure size 360x288 with 1 Axes>"
      ]
     },
     "metadata": {
      "needs_background": "light"
     },
     "output_type": "display_data"
    }
   ],
   "source": [
    "from sklearn.metrics import roc_curve, roc_auc_score\n",
    "\n",
    "# AUC를 계산합니다.\n",
    "false_positive_rate, true_positive_rate, thresholds = roc_curve(y_test, y_pred_probability)\n",
    "roc_auc = roc_auc_score(y_test, y_pred_probability)\n",
    "print(\"AUC : %.3f\" % roc_auc)\n",
    "\n",
    "# ROC curve 그래프를 출력합니다.\n",
    "plt.rcParams['figure.figsize'] = [5, 4]\n",
    "plt.plot(false_positive_rate, true_positive_rate, label='ROC curve (area = %0.3f)' % roc_auc, \n",
    "         color='red', linewidth=4.0)\n",
    "plt.plot([0, 1], [0, 1], 'k--')\n",
    "plt.xlim([0.0, 1.0])\n",
    "plt.ylim([0.0, 1.0])\n",
    "plt.xlabel('False Positive Rate')\n",
    "plt.ylabel('True Positive Rate')\n",
    "plt.title('ROC curve of Logistic regression')\n",
    "plt.legend(loc=\"lower right\")\n"
   ]
  },
  {
   "cell_type": "code",
   "execution_count": 24,
   "metadata": {},
   "outputs": [
    {
     "data": {
      "text/plain": [
       "1    71\n",
       "0    11\n",
       "Name: y, dtype: int64"
      ]
     },
     "execution_count": 24,
     "metadata": {},
     "output_type": "execute_result"
    }
   ],
   "source": [
    "# y가 0과 1을 각각 얼마나 가지고 있는지를 출력합니다.\n",
    "df['y'].value_counts()\n"
   ]
  },
  {
   "cell_type": "code",
   "execution_count": 25,
   "metadata": {},
   "outputs": [],
   "source": [
    "# 1:1 비율로 랜덤 샘플링을 수행합니다.\n",
    "positive_random_idx = df[df['y']==1].sample(50, random_state=30).index.tolist()\n",
    "negative_random_idx = df[df['y']==0].sample(50, random_state=30).index.tolist()\n",
    "#negative_random_idx 는 정확도가 낮을수 있음."
   ]
  },
  {
   "cell_type": "code",
   "execution_count": 26,
   "metadata": {},
   "outputs": [
    {
     "name": "stdout",
     "output_type": "stream",
     "text": [
      "(70, 842)\n",
      "(30, 842)\n"
     ]
    }
   ],
   "source": [
    "# 랜덤 데이터로 데이터셋을 나눕니다.\n",
    "random_idx = positive_random_idx + negative_random_idx\n",
    "sample_X = X[random_idx, :]\n",
    "y = df['y'][random_idx]\n",
    "x_train, x_test, y_train, y_test = train_test_split(sample_X, y, test_size=0.30)\n",
    "print(x_train.shape)\n",
    "print(x_test.shape)"
   ]
  },
  {
   "cell_type": "code",
   "execution_count": 27,
   "metadata": {},
   "outputs": [
    {
     "name": "stdout",
     "output_type": "stream",
     "text": [
      "accuracy: 0.83\n",
      "Precision : 0.812\n",
      "Recall : 0.867\n",
      "F1 : 0.839\n"
     ]
    }
   ],
   "source": [
    "# 로지스틱 회귀모델을 다시 학습합니다.\n",
    "lr = LogisticRegression(random_state=0)\n",
    "lr.fit(x_train, y_train)\n",
    "y_pred = lr.predict(x_test)\n",
    "y_pred_probability = lr.predict_proba(x_test)[:,1]\n",
    "\n",
    "# 학습한 모델을 테스트 데이터로 평가합니다.\n",
    "print(\"accuracy: %.2f\" % accuracy_score(y_test, y_pred))\n",
    "print(\"Precision : %.3f\" % precision_score(y_test, y_pred))\n",
    "print(\"Recall : %.3f\" % recall_score(y_test, y_pred))\n",
    "print(\"F1 : %.3f\" % f1_score(y_test, y_pred))"
   ]
  },
  {
   "cell_type": "code",
   "execution_count": 28,
   "metadata": {},
   "outputs": [
    {
     "name": "stdout",
     "output_type": "stream",
     "text": [
      "[[12  3]\n",
      " [ 2 13]]\n"
     ]
    }
   ],
   "source": [
    "# Confusion matrix를 출력합니다.\n",
    "confmat = confusion_matrix(y_true=y_test, y_pred=y_pred)\n",
    "print(confmat)\n"
   ]
  },
  {
   "cell_type": "code",
   "execution_count": 29,
   "metadata": {},
   "outputs": [
    {
     "name": "stdout",
     "output_type": "stream",
     "text": [
      "AUC : 0.853\n"
     ]
    },
    {
     "data": {
      "text/plain": [
       "<matplotlib.legend.Legend at 0x213faf78a88>"
      ]
     },
     "execution_count": 29,
     "metadata": {},
     "output_type": "execute_result"
    },
    {
     "data": {
      "image/png": "[encoded data removed]",
      "text/plain": [
       "<Figure size 360x288 with 1 Axes>"
      ]
     },
     "metadata": {
      "needs_background": "light"
     },
     "output_type": "display_data"
    }
   ],
   "source": [
    "# AUC를 계산합니다.\n",
    "false_positive_rate, true_positive_rate, thresholds = roc_curve(y_test, y_pred_probability)\n",
    "roc_auc = roc_auc_score(y_test, y_pred_probability)\n",
    "print(\"AUC : %.3f\" % roc_auc)\n",
    "\n",
    "# ROC curve 그래프를 출력합니다.\n",
    "plt.rcParams['figure.figsize'] = [5, 4]\n",
    "plt.plot(false_positive_rate, true_positive_rate, label='ROC curve (area = %0.3f)' % roc_auc, \n",
    "         color='red', linewidth=4.0)\n",
    "plt.plot([0, 1], [0, 1], 'k--')\n",
    "plt.xlim([0.0, 1.0])\n",
    "plt.ylim([0.0, 1.0])\n",
    "plt.xlabel('False Positive Rate')\n",
    "plt.ylabel('True Positive Rate')\n",
    "plt.title('ROC curve of Logistic regression')\n",
    "plt.legend(loc=\"lower right\")"
   ]
  },
  {
   "cell_type": "code",
   "execution_count": 30,
   "metadata": {},
   "outputs": [
    {
     "data": {
      "text/plain": [
       "<BarContainer object of 842 artists>"
      ]
     },
     "execution_count": 30,
     "metadata": {},
     "output_type": "execute_result"
    },
    {
     "data": {
      "image/png": "[encoded data removed]",
      "text/plain": [
       "<Figure size 720x576 with 1 Axes>"
      ]
     },
     "metadata": {
      "needs_background": "light"
     },
     "output_type": "display_data"
    }
   ],
   "source": [
    "# 학습한 회귀 모델의 계수를 출력합니다.\n",
    "plt.rcParams['figure.figsize'] = [10, 8]\n",
    "plt.bar(range(len(lr.coef_[0])), lr.coef_[0])"
   ]
  },
  {
   "cell_type": "code",
   "execution_count": 31,
   "metadata": {},
   "outputs": [
    {
     "name": "stdout",
     "output_type": "stream",
     "text": [
      "[(0.6921327618472729, 180), (0.461880959293318, 381), (0.44873014701240843, 275), (0.40640931529868707, 623), (0.38973418946892446, 267)]\n",
      "[(-0.7593976565993956, 367), (-0.7743000796277633, 11), (-0.7954497407924157, 584), (-0.9325298350731617, 534), (-0.9728846854499148, 354)]\n"
     ]
    }
   ],
   "source": [
    "print(sorted(((value, index) for index, value in enumerate(lr.coef_[0])), reverse=True)[:5])\n",
    "print(sorted(((value, index) for index, value in enumerate(lr.coef_[0])), reverse=True)[-5:])"
   ]
  },
  {
   "cell_type": "code",
   "execution_count": 32,
   "metadata": {},
   "outputs": [],
   "source": [
    "# 회귀 모델의 계수를 높은 순으로 정렬합니다. \n",
    "coef_pos_index = sorted(((value, index) for index, value in enumerate(lr.coef_[0])), reverse=True)\n"
   ]
  },
  {
   "cell_type": "code",
   "execution_count": 33,
   "metadata": {},
   "outputs": [
    {
     "name": "stdout",
     "output_type": "stream",
     "text": [
      "{267: '맛있게/Adjective', 623: '잘/Verb', 298: '먹었어요/Verb', 448: '식사/Noun', 687: '중/Suffix', 514: '에/Jos..\n"
     ]
    }
   ],
   "source": [
    "# 회귀 모델의 계수를 index_vectorizer에 맵핑하여, 어떤 형태소인지 출력할 수 있게 합니다.\n",
    "invert_index_vectorizer = {v: k for k, v in index_vectorizer.vocabulary_.items()}\n",
    "\n",
    "# 계수가 높은 순으로, 피처에 형태소를 맵핑한 결과를 출력합니다. 계수가 높은 피처는 리뷰에 긍정적인 영향을 주는 형태소라고 할 수 있습니다.\n",
    "print(str(invert_index_vectorizer)[:100]+'..')\n"
   ]
  },
  {
   "cell_type": "code",
   "execution_count": 39,
   "metadata": {},
   "outputs": [
    {
     "name": "stdout",
     "output_type": "stream",
     "text": [
      "도/Josa 0.6921327618472729\n",
      "분위기/Noun 0.461880959293318\n",
      "맛있어요/Adjective 0.44873014701240843\n",
      "잘/Verb 0.40640931529868707\n",
      "맛있게/Adjective 0.38973418946892446\n",
      "곳/Noun 0.3312532740146822\n",
      "맛/Noun 0.3289235857925356\n",
      "좋았어요/Adjective 0.327332767329913\n",
      "랑/Josa 0.31279629714064466\n",
      "좀/Noun 0.30939808830388155\n",
      "좋고/Adjective 0.3063433833706624\n",
      "아주/Noun 0.2856579624896856\n",
      "식사/Noun 0.28382793266860823\n",
      "친절했음/Adjective 0.24078298111603186\n",
      "맛있었음/Adjective 0.24078298111603186\n",
      "깔끔했고/Adjective 0.24078298111603186\n",
      "좋습니다/Adjective 0.23811151951769047\n",
      "먹었어요/Verb 0.2331576708963969\n",
      "또/Noun 0.22144739155246498\n",
      "저희/Noun 0.2062324197028038\n",
      "먹고/Verb 0.20503305632011742\n",
      "이고/Josa 0.19488762936448453\n",
      "정말/Noun 0.19150780499907383\n",
      "할/Verb 0.1896775331823505\n",
      "챙겨주셔서/Verb 0.1887663896647527\n",
      "감사합니다/Verb 0.1887663896647527\n",
      "재료/Noun 0.18745949675316886\n",
      "대체로/Noun 0.18745949675316886\n",
      "내용/Noun 0.18745949675316886\n",
      "배불러요/Adjective 0.1870797395571307\n",
      "주차/Noun 0.1812650077247145\n",
      "으로/Josa 0.18065098973158442\n",
      "채워지질/Verb 0.18027929990028357\n",
      "예/Modifier 0.18027929990028357\n",
      "약/Modifier 0.18027929990028357\n",
      "않은게/Verb 0.18027929990028357\n",
      "빨리/Adverb 0.18027929990028357\n",
      "빠르게/Adjective 0.18027929990028357\n",
      "들어갔어요/Verb 0.18027929990028357\n",
      "덕분/Noun 0.18027929990028357\n",
      "로/Josa 0.17947497437180046\n",
      "칼국수/Noun 0.17944433468664925\n",
      "좋아여/Adjective 0.16577119652896882\n",
      "예정/Noun 0.16577119652896882\n",
      "맛있었어요/Adjective 0.1649284795402848\n",
      "에/Josa 0.16445114894488197\n",
      "직원/Noun 0.1614571629013608\n",
      "서/Josa 0.1546794824416281\n",
      "할인/Noun 0.15120569083799243\n",
      "조용하고/Adjective 0.15120569083799243\n"
     ]
    }
   ],
   "source": [
    "# 상위 50개 긍정 형태소를 출력합니다.\n",
    "for coef in coef_pos_index[:50]:\n",
    "    print(invert_index_vectorizer[coef[1]], coef[0])\n"
   ]
  },
  {
   "cell_type": "code",
   "execution_count": 40,
   "metadata": {},
   "outputs": [
    {
     "name": "stdout",
     "output_type": "stream",
     "text": [
      "대로/Josa -0.10456981031020068\n",
      "너무/Adverb -0.10779205841520681\n",
      "해주신거/Verb -0.12173768995650075\n",
      "플레이/Noun -0.12173768995650075\n",
      "편이였으나/Verb -0.12173768995650075\n",
      "팅/Noun -0.12173768995650075\n",
      "중요한/Adjective -0.12173768995650075\n",
      "있는거/Adjective -0.12173768995650075\n",
      "인데/Josa -0.12173768995650075\n",
      "이나/Josa -0.12173768995650075\n",
      "아쉬움/Noun -0.12173768995650075\n",
      "배려/Noun -0.12173768995650075\n",
      "다양한/Adjective -0.12173768995650075\n",
      "같아서/Adjective -0.12173768995650075\n",
      "피자/Noun -0.14042331378876075\n",
      "은/Josa -0.1427389620763007\n",
      "분들/Suffix -0.15697063190711133\n",
      "서비스/Noun -0.15903154949422746\n",
      "파스타/Noun -0.16164705144787672\n",
      "후식/Noun -0.1826981046053871\n",
      "요리/Noun -0.1826981046053871\n",
      "솥밥/Noun -0.1826981046053871\n",
      "부실함/Adjective -0.1826981046053871\n",
      "반찬/Noun -0.1826981046053871\n",
      "류/Noun -0.1826981046053871\n",
      "된장찌개/Noun -0.1826981046053871\n",
      "나온/Verb -0.1826981046053871\n",
      "제/Noun -0.1983202276567499\n",
      "좋았는데/Adjective -0.26998310357144323\n",
      "와/Josa -0.26998310357144323\n",
      "스테이크/Noun -0.26998310357144323\n",
      "살짝/Noun -0.26998310357144323\n",
      "모두/Noun -0.26998310357144323\n",
      "짠/Verb -0.2874113090524541\n",
      "지점/Noun -0.2874113090524541\n",
      "좁고/Adjective -0.2874113090524541\n",
      "비해/Verb -0.2874113090524541\n",
      "다른/Noun -0.2874113090524541\n",
      "같아요/Adjective -0.287979674839946\n",
      "것/Noun -0.31359021892110067\n",
      "짜고/Verb -0.3653962092107742\n",
      "음식/Noun -0.40816011508307426\n",
      "는/Josa -0.4718287168522083\n",
      "이/Suffix -0.5766995519940086\n",
      "였습니다/Verb -0.6170544023707615\n",
      "보통/Noun -0.7593976565993956\n",
      "가/Josa -0.7743000796277633\n",
      "이/Josa -0.7954497407924157\n",
      "예요/Josa -0.9325298350731617\n",
      "별로/Noun -0.9728846854499148\n"
     ]
    }
   ],
   "source": [
    "# 상위 50개 부정 형태소를 출력합니다.\n",
    "for coef in coef_pos_index[-50:]:\n",
    "    print(invert_index_vectorizer[coef[1]], coef[0])\n"
   ]
  },
  {
   "cell_type": "code",
   "execution_count": 36,
   "metadata": {},
   "outputs": [],
   "source": [
    "noun_list = []\n",
    "adjective_list = []\n",
    "\n",
    "# 명사, 형용사별로 계수가 높은 상위 10개의 형태소를 추출합니다. 이는 리뷰에 긍정적인 영향을 주는 명사와 형용사를 순위별로 살펴보는 것이 됩니다.\n",
    "for coef in coef_pos_index[:100]:\n",
    "    pos_category = invert_index_vectorizer[coef[1]].split(\"/\")[1]\n",
    "    if pos_category == \"Noun\":\n",
    "        noun_list.append((invert_index_vectorizer[coef[1]], coef[0]))\n",
    "    elif pos_category == \"Adjective\":\n",
    "        adjective_list.append((invert_index_vectorizer[coef[1]], coef[0]))"
   ]
  },
  {
   "cell_type": "code",
   "execution_count": 37,
   "metadata": {},
   "outputs": [
    {
     "data": {
      "text/plain": [
       "[('분위기/Noun', 0.461880959293318),\n",
       " ('곳/Noun', 0.3312532740146822),\n",
       " ('맛/Noun', 0.3289235857925356),\n",
       " ('좀/Noun', 0.30939808830388155),\n",
       " ('아주/Noun', 0.2856579624896856),\n",
       " ('식사/Noun', 0.28382793266860823),\n",
       " ('또/Noun', 0.22144739155246498),\n",
       " ('저희/Noun', 0.2062324197028038),\n",
       " ('정말/Noun', 0.19150780499907383),\n",
       " ('재료/Noun', 0.18745949675316886)]"
      ]
     },
     "execution_count": 37,
     "metadata": {},
     "output_type": "execute_result"
    }
   ],
   "source": [
    "# 상위 10개의 명사를 출력합니다.\n",
    "noun_list[:10]"
   ]
  },
  {
   "cell_type": "code",
   "execution_count": 38,
   "metadata": {},
   "outputs": [
    {
     "data": {
      "text/plain": [
       "[('맛있어요/Adjective', 0.44873014701240843),\n",
       " ('맛있게/Adjective', 0.38973418946892446),\n",
       " ('좋았어요/Adjective', 0.327332767329913),\n",
       " ('좋고/Adjective', 0.3063433833706624),\n",
       " ('친절했음/Adjective', 0.24078298111603186),\n",
       " ('맛있었음/Adjective', 0.24078298111603186),\n",
       " ('깔끔했고/Adjective', 0.24078298111603186),\n",
       " ('좋습니다/Adjective', 0.23811151951769047),\n",
       " ('배불러요/Adjective', 0.1870797395571307),\n",
       " ('빠르게/Adjective', 0.18027929990028357)]"
      ]
     },
     "execution_count": 38,
     "metadata": {},
     "output_type": "execute_result"
    }
   ],
   "source": [
    "# 상위 10개의 형용사를 출력합니다.\n",
    "adjective_list[:10]"
   ]
  },
  {
   "cell_type": "code",
   "execution_count": null,
   "metadata": {},
   "outputs": [],
   "source": []
  }
 ],
 "metadata": {
  "kernelspec": {
   "display_name": "Python 3",
   "language": "python",
   "name": "python3"
  },
  "language_info": {
   "codemirror_mode": {
    "name": "ipython",
    "version": 3
   },
   "file_extension": ".py",
   "mimetype": "text/x-python",
   "name": "python",
   "nbconvert_exporter": "python",
   "pygments_lexer": "ipython3",
   "version": "3.7.7"
  }
 },
 "nbformat": 4,
 "nbformat_minor": 4
}
