{
 "cells": [
  {
   "cell_type": "code",
   "execution_count": 1,
   "metadata": {},
   "outputs": [
    {
     "name": "stdout",
     "output_type": "stream",
     "text": [
      "WARNING:tensorflow:From /Library/Frameworks/Python.framework/Versions/3.8/lib/python3.8/site-packages/tensorflow/python/compat/v2_compat.py:96: disable_resource_variables (from tensorflow.python.ops.variable_scope) is deprecated and will be removed in a future version.\n",
      "Instructions for updating:\n",
      "non-resource variables are not supported in the long term\n"
     ]
    }
   ],
   "source": [
    "# 기계학습용 라이브러리인 텐서플로를 임포트 합니다.\n",
    "# 무슨말인지 이해 못하셔도 좋습니다\n",
    "# for tensorflow 1.x on tensorflow 2.0\n",
    "import tensorflow.compat.v1 as tf\n",
    "tf.disable_v2_behavior()"
   ]
  },
  {
   "cell_type": "code",
   "execution_count": 1,
   "metadata": {},
   "outputs": [
    {
     "name": "stdout",
     "output_type": "stream",
     "text": [
      "Collecting tensorflow\n",
      "  Downloading tensorflow-2.4.0-cp38-cp38-macosx_10_11_x86_64.whl (175.5 MB)\n",
      "\u001b[K     |████████████████████████████████| 175.5 MB 58.9 MB/s eta 0:00:01\n",
      "\u001b[?25hRequirement already satisfied: six~=1.15.0 in /Library/Frameworks/Python.framework/Versions/3.8/lib/python3.8/site-packages (from tensorflow) (1.15.0)\n",
      "Collecting gast==0.3.3\n",
      "  Downloading gast-0.3.3-py2.py3-none-any.whl (9.7 kB)\n",
      "Collecting absl-py~=0.10\n",
      "  Downloading absl_py-0.11.0-py3-none-any.whl (127 kB)\n",
      "\u001b[K     |████████████████████████████████| 127 kB 59.2 MB/s eta 0:00:01\n",
      "\u001b[?25hCollecting astunparse~=1.6.3\n",
      "  Downloading astunparse-1.6.3-py2.py3-none-any.whl (12 kB)\n",
      "Collecting flatbuffers~=1.12.0\n",
      "  Downloading flatbuffers-1.12-py2.py3-none-any.whl (15 kB)\n",
      "Collecting google-pasta~=0.2\n",
      "  Downloading google_pasta-0.2.0-py3-none-any.whl (57 kB)\n",
      "\u001b[K     |████████████████████████████████| 57 kB 20.5 MB/s eta 0:00:01\n",
      "\u001b[?25hCollecting grpcio~=1.32.0\n",
      "  Downloading grpcio-1.32.0-cp38-cp38-macosx_10_9_x86_64.whl (3.3 MB)\n",
      "\u001b[K     |████████████████████████████████| 3.3 MB 68.7 MB/s eta 0:00:01\n",
      "\u001b[?25hCollecting h5py~=2.10.0\n",
      "  Downloading h5py-2.10.0-cp38-cp38-macosx_10_9_x86_64.whl (3.0 MB)\n",
      "\u001b[K     |████████████████████████████████| 3.0 MB 81.5 MB/s eta 0:00:01\n",
      "\u001b[?25hCollecting keras-preprocessing~=1.1.2\n",
      "  Downloading Keras_Preprocessing-1.1.2-py2.py3-none-any.whl (42 kB)\n",
      "\u001b[K     |████████████████████████████████| 42 kB 1.1 MB/s eta 0:00:011\n",
      "\u001b[?25hCollecting numpy~=1.19.2\n",
      "  Downloading numpy-1.19.5-cp38-cp38-macosx_10_9_x86_64.whl (15.6 MB)\n",
      "\u001b[K     |████████████████████████████████| 15.6 MB 43.7 MB/s eta 0:00:01\n",
      "\u001b[?25hCollecting opt-einsum~=3.3.0\n",
      "  Downloading opt_einsum-3.3.0-py3-none-any.whl (65 kB)\n",
      "\u001b[K     |████████████████████████████████| 65 kB 18.1 MB/s eta 0:00:01\n",
      "\u001b[?25hCollecting protobuf>=3.9.2\n",
      "  Downloading protobuf-3.14.0-cp38-cp38-macosx_10_9_x86_64.whl (1.0 MB)\n",
      "\u001b[K     |████████████████████████████████| 1.0 MB 75.2 MB/s eta 0:00:01\n",
      "\u001b[?25hCollecting tensorboard~=2.4\n",
      "  Downloading tensorboard-2.4.0-py3-none-any.whl (10.6 MB)\n",
      "\u001b[K     |████████████████████████████████| 10.6 MB 49.2 MB/s eta 0:00:01\n",
      "\u001b[?25hRequirement already satisfied: setuptools>=41.0.0 in /Library/Frameworks/Python.framework/Versions/3.8/lib/python3.8/site-packages (from tensorboard~=2.4->tensorflow) (41.2.0)\n",
      "Collecting google-auth<2,>=1.6.3\n",
      "  Downloading google_auth-1.24.0-py2.py3-none-any.whl (114 kB)\n",
      "\u001b[K     |████████████████████████████████| 114 kB 62.9 MB/s eta 0:00:01\n",
      "\u001b[?25hCollecting cachetools<5.0,>=2.0.0\n",
      "  Downloading cachetools-4.2.0-py3-none-any.whl (12 kB)\n",
      "Collecting google-auth-oauthlib<0.5,>=0.4.1\n",
      "  Downloading google_auth_oauthlib-0.4.2-py2.py3-none-any.whl (18 kB)\n",
      "Collecting markdown>=2.6.8\n",
      "  Downloading Markdown-3.3.3-py3-none-any.whl (96 kB)\n",
      "\u001b[K     |████████████████████████████████| 96 kB 22.1 MB/s eta 0:00:01\n",
      "\u001b[?25hCollecting pyasn1-modules>=0.2.1\n",
      "  Downloading pyasn1_modules-0.2.8-py2.py3-none-any.whl (155 kB)\n",
      "\u001b[K     |████████████████████████████████| 155 kB 59.5 MB/s eta 0:00:01\n",
      "\u001b[?25hCollecting pyasn1<0.5.0,>=0.4.6\n",
      "  Downloading pyasn1-0.4.8-py2.py3-none-any.whl (77 kB)\n",
      "\u001b[K     |████████████████████████████████| 77 kB 22.2 MB/s eta 0:00:01\n",
      "\u001b[?25hCollecting requests<3,>=2.21.0\n",
      "  Downloading requests-2.25.1-py2.py3-none-any.whl (61 kB)\n",
      "\u001b[K     |████████████████████████████████| 61 kB 27.9 MB/s eta 0:00:01\n",
      "\u001b[?25hCollecting certifi>=2017.4.17\n",
      "  Downloading certifi-2020.12.5-py2.py3-none-any.whl (147 kB)\n",
      "\u001b[K     |████████████████████████████████| 147 kB 71.6 MB/s eta 0:00:01\n",
      "\u001b[?25hCollecting chardet<5,>=3.0.2\n",
      "  Downloading chardet-4.0.0-py2.py3-none-any.whl (178 kB)\n",
      "\u001b[K     |████████████████████████████████| 178 kB 77.4 MB/s eta 0:00:01\n",
      "\u001b[?25hCollecting idna<3,>=2.5\n",
      "  Downloading idna-2.10-py2.py3-none-any.whl (58 kB)\n",
      "\u001b[K     |████████████████████████████████| 58 kB 31.2 MB/s eta 0:00:01\n",
      "\u001b[?25hCollecting requests-oauthlib>=0.7.0\n",
      "  Downloading requests_oauthlib-1.3.0-py2.py3-none-any.whl (23 kB)\n",
      "Collecting oauthlib>=3.0.0\n",
      "  Downloading oauthlib-3.1.0-py2.py3-none-any.whl (147 kB)\n",
      "\u001b[K     |████████████████████████████████| 147 kB 84.7 MB/s eta 0:00:01\n",
      "\u001b[?25hCollecting rsa<5,>=3.1.4\n",
      "  Downloading rsa-4.6-py3-none-any.whl (47 kB)\n",
      "\u001b[K     |████████████████████████████████| 47 kB 1.2 MB/s eta 0:00:011\n",
      "\u001b[?25hCollecting tensorboard-plugin-wit>=1.6.0\n",
      "  Downloading tensorboard_plugin_wit-1.7.0-py3-none-any.whl (779 kB)\n",
      "\u001b[K     |████████████████████████████████| 779 kB 88.8 MB/s eta 0:00:01\n",
      "\u001b[?25hCollecting tensorflow-estimator<2.5.0,>=2.4.0rc0\n",
      "  Downloading tensorflow_estimator-2.4.0-py2.py3-none-any.whl (462 kB)\n",
      "\u001b[K     |████████████████████████████████| 462 kB 62.5 MB/s eta 0:00:01\n",
      "\u001b[?25hCollecting termcolor~=1.1.0\n",
      "  Downloading termcolor-1.1.0.tar.gz (3.9 kB)\n",
      "Collecting typing-extensions~=3.7.4\n",
      "  Using cached typing_extensions-3.7.4.3-py3-none-any.whl (22 kB)\n",
      "Collecting urllib3<1.27,>=1.21.1\n",
      "  Downloading urllib3-1.26.2-py2.py3-none-any.whl (136 kB)\n",
      "\u001b[K     |████████████████████████████████| 136 kB 85.4 MB/s eta 0:00:01\n",
      "\u001b[?25hCollecting werkzeug>=0.11.15\n",
      "  Downloading Werkzeug-1.0.1-py2.py3-none-any.whl (298 kB)\n",
      "\u001b[K     |████████████████████████████████| 298 kB 58.0 MB/s eta 0:00:01\n",
      "\u001b[?25hCollecting wheel~=0.35\n",
      "  Using cached wheel-0.36.2-py2.py3-none-any.whl (35 kB)\n",
      "Collecting wrapt~=1.12.1\n",
      "  Downloading wrapt-1.12.1.tar.gz (27 kB)\n",
      "Using legacy 'setup.py install' for termcolor, since package 'wheel' is not installed.\n",
      "Using legacy 'setup.py install' for wrapt, since package 'wheel' is not installed.\n",
      "Installing collected packages: urllib3, pyasn1, idna, chardet, certifi, rsa, requests, pyasn1-modules, oauthlib, cachetools, requests-oauthlib, google-auth, wheel, werkzeug, tensorboard-plugin-wit, protobuf, numpy, markdown, grpcio, google-auth-oauthlib, absl-py, wrapt, typing-extensions, termcolor, tensorflow-estimator, tensorboard, opt-einsum, keras-preprocessing, h5py, google-pasta, gast, flatbuffers, astunparse, tensorflow\n",
      "    Running setup.py install for wrapt ... \u001b[?25ldone\n",
      "\u001b[?25h    Running setup.py install for termcolor ... \u001b[?25ldone\n",
      "\u001b[?25hSuccessfully installed absl-py-0.11.0 astunparse-1.6.3 cachetools-4.2.0 certifi-2020.12.5 chardet-4.0.0 flatbuffers-1.12 gast-0.3.3 google-auth-1.24.0 google-auth-oauthlib-0.4.2 google-pasta-0.2.0 grpcio-1.32.0 h5py-2.10.0 idna-2.10 keras-preprocessing-1.1.2 markdown-3.3.3 numpy-1.19.5 oauthlib-3.1.0 opt-einsum-3.3.0 protobuf-3.14.0 pyasn1-0.4.8 pyasn1-modules-0.2.8 requests-2.25.1 requests-oauthlib-1.3.0 rsa-4.6 tensorboard-2.4.0 tensorboard-plugin-wit-1.7.0 tensorflow-2.4.0 tensorflow-estimator-2.4.0 termcolor-1.1.0 typing-extensions-3.7.4.3 urllib3-1.26.2 werkzeug-1.0.1 wheel-0.36.2 wrapt-1.12.1\n",
      "Note: you may need to restart the kernel to use updated packages.\n"
     ]
    }
   ],
   "source": [
    "pip install tensorflow"
   ]
  },
  {
   "cell_type": "code",
   "execution_count": 2,
   "metadata": {},
   "outputs": [],
   "source": [
    "# 학습도구 : 예제 데이터\n",
    "X_data = [1, 2, 3, 4, 5]\n",
    "Y_data = [1, 2, 3, 4, 5]"
   ]
  },
  {
   "cell_type": "code",
   "execution_count": 3,
   "metadata": {},
   "outputs": [],
   "source": [
    "# parameter : 기울기(slope)와 Y절편(intercept)\n",
    "A = tf.Variable(tf.random_normal([1]), name='slope')\n",
    "B = tf.Variable(tf.random_normal([1]), name='intercept')"
   ]
  },
  {
   "cell_type": "code",
   "execution_count": 4,
   "metadata": {},
   "outputs": [],
   "source": [
    "# 플레이스 홀더 선언. 지금은 뭔지 몰라도 됩니다\n",
    "X = tf.placeholder(tf.float32, shape=[None])\n",
    "Y = tf.placeholder(tf.float32, shape=[None])"
   ]
  },
  {
   "cell_type": "code",
   "execution_count": 5,
   "metadata": {},
   "outputs": [],
   "source": [
    "# 어떤 모델 만들겁니까? 네 단순선형회귀니까 1차방정식\n",
    "model = X * A + B"
   ]
  },
  {
   "cell_type": "code",
   "execution_count": 6,
   "metadata": {},
   "outputs": [],
   "source": [
    "# 학습을 진행하려면 내가 현재까지 얼마나 틀리고 있는지 알아야 합니다.\n",
    "# 그 틀린정도를 머신러닝에서는 cost(또는 loss) 라고 부릅니다. 이걸 정해줘야 학습을 하죠?\n",
    "# 이 아래 의미는 뭘까요?\n",
    "cost = tf.reduce_mean(tf.square(model - Y))"
   ]
  },
  {
   "cell_type": "code",
   "execution_count": 7,
   "metadata": {},
   "outputs": [],
   "source": [
    "# 틀린정도를 최소화 하도록 합니다. 경사하강 알고리즘을 사용합니다.\n",
    "optimizer = tf.train.GradientDescentOptimizer(learning_rate=0.01)\n",
    "train = optimizer.minimize(cost)"
   ]
  },
  {
   "cell_type": "code",
   "execution_count": 8,
   "metadata": {},
   "outputs": [],
   "source": [
    "# 세션을 키고 초기화합니다. 지금은 이게 뭔지 모르셔도 됩니다\n",
    "sess = tf.Session()\n",
    "sess.run(tf.global_variables_initializer())"
   ]
  },
  {
   "cell_type": "code",
   "execution_count": 9,
   "metadata": {},
   "outputs": [],
   "source": [
    "# 반복문을 돌리기 위해 변수를 선언해 둡니다. 이부분도 여러분들이 지금은 모르셔도 됩니다\n",
    "run_cost = []\n",
    "run_weight = []\n",
    "run_bias = []"
   ]
  },
  {
   "cell_type": "code",
   "execution_count": 11,
   "metadata": {},
   "outputs": [
    {
     "name": "stdout",
     "output_type": "stream",
     "text": [
      "학습횟수:   0   오차(cost): 3.5224655e-08   기울기: [1.0001214]   Y절편: [-0.00043826]\n",
      "학습횟수:   200   오차(cost): 9.132481e-09   기울기: [1.0000616]   Y절편: [-0.00022306]\n",
      "학습횟수:   400   오차(cost): 2.3715558e-09   기울기: [1.0000315]   Y절편: [-0.00011392]\n",
      "학습횟수:   600   오차(cost): 6.058009e-10   기울기: [1.000016]   Y절편: [-5.742417e-05]\n",
      "학습횟수:   800   오차(cost): 1.6430945e-10   기울기: [1.0000083]   Y절편: [-2.9866313e-05]\n",
      "학습횟수:   1000   오차(cost): 5.0213344e-11   기울기: [1.0000046]   Y절편: [-1.6329628e-05]\n",
      "학습횟수:   1200   오차(cost): 1.7869439e-11   기울기: [1.000003]   Y절편: [-9.8360615e-06]\n",
      "학습횟수:   1400   오차(cost): 7.782575e-12   기울기: [1.000002]   Y절편: [-6.462196e-06]\n",
      "학습횟수:   1600   오차(cost): 5.7617912e-12   기울기: [1.0000017]   Y절편: [-5.156853e-06]\n",
      "학습횟수:   1800   오차(cost): 4.459366e-12   기울기: [1.0000015]   Y절편: [-4.6273153e-06]\n",
      "학습횟수:   2000   오차(cost): 4.3861802e-12   기울기: [1.0000015]   Y절편: [-4.58942e-06]\n"
     ]
    }
   ],
   "source": [
    "# 자. 학습을 시켜 보겠습니다.\n",
    "# 아래 range(2001) 이라고 되어있는거 보이시죠? 이게 학습 횟수입니다.\n",
    "# 스스로 최적화 하여 parmeter를 최적화하는걸 보실수 있습니다. 결과가 이해 되시나요?\n",
    "for step in range(2001):\n",
    "  run_cost, run_weight, run_bias, f_data = sess.run([cost, A, B, train], feed_dict={X: X_data, Y: Y_data})  \n",
    "  if step % 200 == 0:\n",
    "    print('학습횟수:',' ',step,' ','오차(cost):',run_cost,' ','기울기:', run_weight,' ','Y절편:', run_bias)"
   ]
  },
  {
   "cell_type": "code",
   "execution_count": 12,
   "metadata": {},
   "outputs": [
    {
     "name": "stdout",
     "output_type": "stream",
     "text": [
      "학습횟수:   0   오차(cost): 4.315126e-12   기울기: [1.0000015]   Y절편: [-4.589658e-06]\n",
      "학습횟수:   200   오차(cost): 4.315126e-12   기울기: [1.0000015]   Y절편: [-4.589658e-06]\n",
      "학습횟수:   400   오차(cost): 4.315126e-12   기울기: [1.0000015]   Y절편: [-4.589658e-06]\n",
      "학습횟수:   600   오차(cost): 4.315126e-12   기울기: [1.0000015]   Y절편: [-4.589658e-06]\n",
      "학습횟수:   800   오차(cost): 4.315126e-12   기울기: [1.0000015]   Y절편: [-4.589658e-06]\n",
      "학습횟수:   1000   오차(cost): 4.315126e-12   기울기: [1.0000015]   Y절편: [-4.589658e-06]\n",
      "학습횟수:   1200   오차(cost): 4.315126e-12   기울기: [1.0000015]   Y절편: [-4.589658e-06]\n",
      "학습횟수:   1400   오차(cost): 4.315126e-12   기울기: [1.0000015]   Y절편: [-4.589658e-06]\n",
      "학습횟수:   1600   오차(cost): 4.315126e-12   기울기: [1.0000015]   Y절편: [-4.589658e-06]\n",
      "학습횟수:   1800   오차(cost): 4.315126e-12   기울기: [1.0000015]   Y절편: [-4.589658e-06]\n",
      "학습횟수:   2000   오차(cost): 4.315126e-12   기울기: [1.0000015]   Y절편: [-4.589658e-06]\n"
     ]
    }
   ],
   "source": [
    "# 자. 학습을 시켜 보겠습니다.\n",
    "# 아래 range(2001) 이라고 되어있는거 보이시죠? 이게 학습 횟수입니다.\n",
    "# 스스로 최적화 하여 parmeter를 최적화하는걸 보실수 있습니다. 결과가 이해 되시나요?\n",
    "for step in range(2001):\n",
    "  run_cost, run_weight, run_bias, f_data = sess.run([cost, A, B, train], feed_dict={X: X_data, Y: Y_data})  \n",
    "  if step % 200 == 0:\n",
    "    print('학습횟수:',' ',step,' ','오차(cost):',run_cost,' ','기울기:', run_weight,' ','Y절편:', run_bias)"
   ]
  },
  {
   "cell_type": "code",
   "execution_count": 13,
   "metadata": {},
   "outputs": [
    {
     "name": "stdout",
     "output_type": "stream",
     "text": [
      "학습횟수:   0   오차(cost): 4.3861802e-12   기울기: [1.0000015]   Y절편: [-4.58942e-06]\n",
      "학습횟수:   200   오차(cost): 4.3861802e-12   기울기: [1.0000015]   Y절편: [-4.58942e-06]\n",
      "학습횟수:   400   오차(cost): 4.3861802e-12   기울기: [1.0000015]   Y절편: [-4.58942e-06]\n",
      "학습횟수:   600   오차(cost): 4.3861802e-12   기울기: [1.0000015]   Y절편: [-4.58942e-06]\n",
      "학습횟수:   800   오차(cost): 4.3861802e-12   기울기: [1.0000015]   Y절편: [-4.58942e-06]\n",
      "학습횟수:   1000   오차(cost): 4.3861802e-12   기울기: [1.0000015]   Y절편: [-4.58942e-06]\n",
      "학습횟수:   1200   오차(cost): 4.3861802e-12   기울기: [1.0000015]   Y절편: [-4.58942e-06]\n",
      "학습횟수:   1400   오차(cost): 4.3861802e-12   기울기: [1.0000015]   Y절편: [-4.58942e-06]\n",
      "학습횟수:   1600   오차(cost): 4.3861802e-12   기울기: [1.0000015]   Y절편: [-4.58942e-06]\n",
      "학습횟수:   1800   오차(cost): 4.3861802e-12   기울기: [1.0000015]   Y절편: [-4.58942e-06]\n",
      "학습횟수:   2000   오차(cost): 4.3861802e-12   기울기: [1.0000015]   Y절편: [-4.58942e-06]\n"
     ]
    }
   ],
   "source": [
    "# 자. 학습을 시켜 보겠습니다.\n",
    "# 아래 range(2001) 이라고 되어있는거 보이시죠? 이게 학습 횟수입니다.\n",
    "# 스스로 최적화 하여 parmeter를 최적화하는걸 보실수 있습니다. 결과가 이해 되시나요?\n",
    "for step in range(2001):\n",
    "  run_cost, run_weight, run_bias, f_data = sess.run([cost, A, B, train], feed_dict={X: X_data, Y: Y_data})  \n",
    "  if step % 200 == 0:\n",
    "    print('학습횟수:',' ',step,' ','오차(cost):',run_cost,' ','기울기:', run_weight,' ','Y절편:', run_bias)"
   ]
  },
  {
   "cell_type": "code",
   "execution_count": 14,
   "metadata": {},
   "outputs": [
    {
     "data": {
      "text/plain": [
       "array([10.0000105], dtype=float32)"
      ]
     },
     "execution_count": 14,
     "metadata": {},
     "output_type": "execute_result"
    }
   ],
   "source": [
    "# 예측을 한번 해봅시다\n",
    "# 위 예제 데이터의 관계성에 따르면 X가 10일때 예상되는 Y는 얼마입니까?\n",
    "sess.run(model, feed_dict = {X : [10]})"
   ]
  },
  {
   "cell_type": "code",
   "execution_count": null,
   "metadata": {},
   "outputs": [],
   "source": []
  }
 ],
 "metadata": {
  "kernelspec": {
   "display_name": "Python 3",
   "language": "python",
   "name": "python3"
  },
  "language_info": {
   "codemirror_mode": {
    "name": "ipython",
    "version": 3
   },
   "file_extension": ".py",
   "mimetype": "text/x-python",
   "name": "python",
   "nbconvert_exporter": "python",
   "pygments_lexer": "ipython3",
   "version": "3.8.0"
  }
 },
 "nbformat": 4,
 "nbformat_minor": 4
}
